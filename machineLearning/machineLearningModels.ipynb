{
 "cells": [
  {
   "cell_type": "markdown",
   "id": "a45d60fa",
   "metadata": {},
   "source": [
    "# Machine Learning Notebook for bike/parking space predictions"
   ]
  },
  {
   "cell_type": "markdown",
   "id": "068085ea",
   "metadata": {},
   "source": [
    "## Section 0: Import Required Libraries"
   ]
  },
  {
   "cell_type": "code",
   "execution_count": 1,
   "id": "0d14f79e",
   "metadata": {},
   "outputs": [],
   "source": [
    "from sqlalchemy import create_engine\n",
    "import pandas as pd\n",
    "import numpy as np\n",
    "from sklearn.linear_model import LogisticRegression\n",
    "from sklearn.model_selection import train_test_split"
   ]
  },
  {
   "cell_type": "markdown",
   "id": "833e674e",
   "metadata": {},
   "source": [
    "## Section 1: Data preparation"
   ]
  },
  {
   "cell_type": "markdown",
   "id": "a02d2877",
   "metadata": {},
   "source": [
    "### Section 1.1: Create a function to create to the SQL database"
   ]
  },
  {
   "cell_type": "code",
   "execution_count": 2,
   "id": "cb65e35a",
   "metadata": {},
   "outputs": [],
   "source": [
    "def connect_to_database():\n",
    "    \"\"\"Function for connecting to the SQL database\"\"\"\n",
    "\n",
    "    # Create variables to store cretentials\n",
    "    USER = \"admin\"\n",
    "    DB = \"dbikes\"\n",
    "    PORT = \"3306\"\n",
    "    URL = \"database-1.ctesjcult8dm.eu-west-1.rds.amazonaws.com\"\n",
    "\n",
    "    # Read in password from text file\n",
    "    with open('../mysql_password.txt') as f:\n",
    "        PASSWORD = ''.join(f.readlines())\n",
    "        PASSWORD = str(PASSWORD).split()[0]\n",
    "\n",
    "    # Create engine using credentials\n",
    "    engine = create_engine(\n",
    "        \"mysql+mysqlconnector://{}:{}@{}:{}/{}\".format(USER, PASSWORD, URL, PORT, DB), echo=True)\n",
    "\n",
    "    # Create connection using engine and return connection\n",
    "    conn = engine.connect()\n",
    "    return conn\n"
   ]
  },
  {
   "cell_type": "code",
   "execution_count": 3,
   "id": "4b463feb",
   "metadata": {},
   "outputs": [
    {
     "name": "stdout",
     "output_type": "stream",
     "text": [
      "2022-03-23 17:12:40,769 INFO sqlalchemy.engine.Engine SHOW VARIABLES LIKE 'sql_mode'\n",
      "2022-03-23 17:12:40,772 INFO sqlalchemy.engine.Engine [raw sql] {}\n",
      "2022-03-23 17:12:40,793 INFO sqlalchemy.engine.Engine SHOW VARIABLES LIKE 'lower_case_table_names'\n",
      "2022-03-23 17:12:40,797 INFO sqlalchemy.engine.Engine [generated in 0.00709s] {}\n",
      "2022-03-23 17:12:40,830 INFO sqlalchemy.engine.Engine SELECT DATABASE()\n",
      "2022-03-23 17:12:40,832 INFO sqlalchemy.engine.Engine [raw sql] {}\n"
     ]
    }
   ],
   "source": [
    "engine = connect_to_database()"
   ]
  },
  {
   "cell_type": "markdown",
   "id": "e1987d9d",
   "metadata": {},
   "source": [
    "### Section 1.2: Read in real time bike/parking space availability data"
   ]
  },
  {
   "cell_type": "code",
   "execution_count": 4,
   "id": "260097e1",
   "metadata": {},
   "outputs": [
    {
     "name": "stdout",
     "output_type": "stream",
     "text": [
      "2022-03-23 17:12:40,963 INFO sqlalchemy.engine.Engine SELECT * FROM dbikes.availability\n",
      "2022-03-23 17:12:40,965 INFO sqlalchemy.engine.Engine [raw sql] {}\n"
     ]
    }
   ],
   "source": [
    "availability_df = pd.read_sql_query(\"SELECT * FROM dbikes.availability\", engine)"
   ]
  },
  {
   "cell_type": "markdown",
   "id": "bdaa41cf",
   "metadata": {},
   "source": [
    "### Section 1.3: Remove Duplicate values from real time availability"
   ]
  },
  {
   "cell_type": "code",
   "execution_count": 5,
   "id": "92062119",
   "metadata": {},
   "outputs": [],
   "source": [
    "# Remove duplicates\n",
    "availability_df.drop_duplicates(inplace=True)"
   ]
  },
  {
   "cell_type": "markdown",
   "id": "30bfcec6",
   "metadata": {},
   "source": [
    "### Section 1.4: Read in weather data"
   ]
  },
  {
   "cell_type": "code",
   "execution_count": 6,
   "id": "d2485768",
   "metadata": {},
   "outputs": [
    {
     "name": "stdout",
     "output_type": "stream",
     "text": [
      "2022-03-23 17:13:02,446 INFO sqlalchemy.engine.Engine SELECT dt, temperature, main FROM dbikes.real_time_weather\n",
      "2022-03-23 17:13:02,447 INFO sqlalchemy.engine.Engine [raw sql] {}\n"
     ]
    }
   ],
   "source": [
    "weather_df = pd.read_sql_query(\"SELECT dt, temperature, main FROM dbikes.real_time_weather\", engine)"
   ]
  },
  {
   "cell_type": "markdown",
   "id": "1f84e87c",
   "metadata": {},
   "source": [
    "### Section 1.5: Remove duplicate values from weather"
   ]
  },
  {
   "cell_type": "code",
   "execution_count": 7,
   "id": "51e309b7",
   "metadata": {},
   "outputs": [],
   "source": [
    "#Drop duplicates\n",
    "weather_df.drop_duplicates(inplace=True)"
   ]
  },
  {
   "cell_type": "markdown",
   "id": "b1ab350a",
   "metadata": {},
   "source": [
    "### Section 1.6: Rename last update column in availability dataframe to dt to help with the merging of the availability and weather dataframes"
   ]
  },
  {
   "cell_type": "code",
   "execution_count": 8,
   "id": "3027bf73",
   "metadata": {},
   "outputs": [
    {
     "data": {
      "text/plain": [
       "Index(['number', 'available_bikes', 'available_stands', 'dt'], dtype='object')"
      ]
     },
     "execution_count": 8,
     "metadata": {},
     "output_type": "execute_result"
    }
   ],
   "source": [
    "#Changes the name of the column\n",
    "availability_df.rename(columns={\"last_update\": \"dt\"}, inplace=True)\n",
    "availability_df.columns"
   ]
  },
  {
   "cell_type": "markdown",
   "id": "1dcd0254",
   "metadata": {},
   "source": [
    "### Section 1.7: Change the type of the dt variable to an np.int64 type for merging"
   ]
  },
  {
   "cell_type": "code",
   "execution_count": 9,
   "id": "c92508ee",
   "metadata": {},
   "outputs": [],
   "source": [
    "availability_df[\"dt\"] = availability_df[\"dt\"].astype(np.int64)\n",
    "weather_df[\"dt\"]= weather_df[\"dt\"].astype(np.int64)"
   ]
  },
  {
   "cell_type": "markdown",
   "id": "6c009e62",
   "metadata": {},
   "source": [
    "### Section 1.8: Sort the dt columns for merging"
   ]
  },
  {
   "cell_type": "code",
   "execution_count": 10,
   "id": "6784b153",
   "metadata": {},
   "outputs": [],
   "source": [
    "availability_df.sort_values(by=\"dt\", inplace=True)\n",
    "weather_df.sort_values(by=\"dt\", inplace=True)"
   ]
  },
  {
   "cell_type": "markdown",
   "id": "85cddd78",
   "metadata": {},
   "source": [
    "### Section 1.9: Convert seconds to milliseconds in dt column in availability so that it is comparable with the corresponding weather column"
   ]
  },
  {
   "cell_type": "code",
   "execution_count": 11,
   "id": "c600cc28",
   "metadata": {},
   "outputs": [],
   "source": [
    "#Converts seconds to miliseconds\n",
    "availability_df[\"dt\"] = availability_df[\"dt\"] // 1000"
   ]
  },
  {
   "cell_type": "markdown",
   "id": "8f109117",
   "metadata": {},
   "source": [
    "### Section 1.10: Merge weather and availability dataframes"
   ]
  },
  {
   "cell_type": "code",
   "execution_count": 12,
   "id": "e2f8a866",
   "metadata": {},
   "outputs": [],
   "source": [
    "df=pd.merge_asof(availability_df, weather_df, on=\"dt\", direction=\"nearest\")"
   ]
  },
  {
   "cell_type": "markdown",
   "id": "6ac966f7",
   "metadata": {},
   "source": [
    "### Section 1.11: Convert temperature from Kelvin to Celcius"
   ]
  },
  {
   "cell_type": "code",
   "execution_count": 13,
   "id": "eb53ff28",
   "metadata": {},
   "outputs": [],
   "source": [
    "df[\"temperature\"] = df[\"temperature\"] - 273.15"
   ]
  },
  {
   "cell_type": "markdown",
   "id": "57205a4b",
   "metadata": {},
   "source": [
    "### Section 1.12: Transform the dt column to get hour of the day and day of the week"
   ]
  },
  {
   "cell_type": "code",
   "execution_count": 14,
   "id": "de0df62c",
   "metadata": {},
   "outputs": [],
   "source": [
    "df[\"dt\"] = pd.to_datetime(df[\"dt\"], unit=\"s\")\n",
    "df[\"day_of_week\"] = df[\"dt\"].dt.day_name()\n",
    "df[\"hour\"] = df[\"dt\"].dt.hour"
   ]
  },
  {
   "cell_type": "markdown",
   "id": "b18e06b8",
   "metadata": {},
   "source": [
    "### Section 1.13: Convert categorical variables to \"category\" data type"
   ]
  },
  {
   "cell_type": "code",
   "execution_count": 15,
   "id": "0c061867",
   "metadata": {},
   "outputs": [],
   "source": [
    "df[\"main\"] = df[\"main\"].astype(\"category\")\n",
    "df[\"day_of_week\"] = df[\"day_of_week\"].astype(\"category\")\n",
    "df[\"hour\"] = df[\"hour\"].astype(\"category\")"
   ]
  },
  {
   "cell_type": "markdown",
   "id": "3f28d3cc",
   "metadata": {},
   "source": [
    "### Section 1.14: Get a list of station numbers"
   ]
  },
  {
   "cell_type": "code",
   "execution_count": 16,
   "id": "a06fc533",
   "metadata": {},
   "outputs": [],
   "source": [
    "station_numbers = list(df[\"number\"].unique())"
   ]
  },
  {
   "cell_type": "markdown",
   "id": "5b7ea1d2",
   "metadata": {},
   "source": [
    "## Section 2: Model creation/evaluation"
   ]
  },
  {
   "cell_type": "code",
   "execution_count": 17,
   "id": "d0b0f05d",
   "metadata": {},
   "outputs": [
    {
     "name": "stdout",
     "output_type": "stream",
     "text": [
      "86\n",
      "55\n",
      "80\n"
     ]
    },
    {
     "ename": "KeyboardInterrupt",
     "evalue": "",
     "output_type": "error",
     "traceback": [
      "\u001b[1;31m---------------------------------------------------------------------------\u001b[0m",
      "\u001b[1;31mKeyboardInterrupt\u001b[0m                         Traceback (most recent call last)",
      "\u001b[1;32mc:\\Users\\micha\\OneDrive - University College Dublin\\Documents\\1st Year Msc\\2nd Semester\\COMP30830 - Software Engineering\\Assignments\\Group_Project\\machineLearning\\machineLearningModels.ipynb Cell 35'\u001b[0m in \u001b[0;36m<cell line: 3>\u001b[1;34m()\u001b[0m\n\u001b[0;32m     <a href='vscode-notebook-cell:/c%3A/Users/micha/OneDrive%20-%20University%20College%20Dublin/Documents/1st%20Year%20Msc/2nd%20Semester/COMP30830%20-%20Software%20Engineering/Assignments/Group_Project/machineLearning/machineLearningModels.ipynb#ch0000027?line=11'>12</a>\u001b[0m     X_train, X_test, y_train, y_test \u001b[39m=\u001b[39m train_test_split(X,y)\n\u001b[0;32m     <a href='vscode-notebook-cell:/c%3A/Users/micha/OneDrive%20-%20University%20College%20Dublin/Documents/1st%20Year%20Msc/2nd%20Semester/COMP30830%20-%20Software%20Engineering/Assignments/Group_Project/machineLearning/machineLearningModels.ipynb#ch0000027?line=12'>13</a>\u001b[0m     model[station] \u001b[39m=\u001b[39m LogisticRegression( solver\u001b[39m=\u001b[39m\u001b[39m'\u001b[39m\u001b[39mlbfgs\u001b[39m\u001b[39m'\u001b[39m, max_iter\u001b[39m=\u001b[39m\u001b[39m1500\u001b[39m)\n\u001b[1;32m---> <a href='vscode-notebook-cell:/c%3A/Users/micha/OneDrive%20-%20University%20College%20Dublin/Documents/1st%20Year%20Msc/2nd%20Semester/COMP30830%20-%20Software%20Engineering/Assignments/Group_Project/machineLearning/machineLearningModels.ipynb#ch0000027?line=13'>14</a>\u001b[0m     model[station]\u001b[39m.\u001b[39;49mfit(X_train, y_train)\n\u001b[0;32m     <a href='vscode-notebook-cell:/c%3A/Users/micha/OneDrive%20-%20University%20College%20Dublin/Documents/1st%20Year%20Msc/2nd%20Semester/COMP30830%20-%20Software%20Engineering/Assignments/Group_Project/machineLearning/machineLearningModels.ipynb#ch0000027?line=14'>15</a>\u001b[0m     \u001b[39mprint\u001b[39m(station)\n\u001b[0;32m     <a href='vscode-notebook-cell:/c%3A/Users/micha/OneDrive%20-%20University%20College%20Dublin/Documents/1st%20Year%20Msc/2nd%20Semester/COMP30830%20-%20Software%20Engineering/Assignments/Group_Project/machineLearning/machineLearningModels.ipynb#ch0000027?line=16'>17</a>\u001b[0m \u001b[39mprint\u001b[39m(model)\n",
      "File \u001b[1;32m~\\anaconda3\\envs\\comp30830\\lib\\site-packages\\sklearn\\linear_model\\_logistic.py:1589\u001b[0m, in \u001b[0;36mLogisticRegression.fit\u001b[1;34m(self, X, y, sample_weight)\u001b[0m\n\u001b[0;32m   <a href='file:///c%3A/Users/micha/anaconda3/envs/comp30830/lib/site-packages/sklearn/linear_model/_logistic.py?line=1586'>1587</a>\u001b[0m \u001b[39melse\u001b[39;00m:\n\u001b[0;32m   <a href='file:///c%3A/Users/micha/anaconda3/envs/comp30830/lib/site-packages/sklearn/linear_model/_logistic.py?line=1587'>1588</a>\u001b[0m     prefer \u001b[39m=\u001b[39m \u001b[39m\"\u001b[39m\u001b[39mprocesses\u001b[39m\u001b[39m\"\u001b[39m\n\u001b[1;32m-> <a href='file:///c%3A/Users/micha/anaconda3/envs/comp30830/lib/site-packages/sklearn/linear_model/_logistic.py?line=1588'>1589</a>\u001b[0m fold_coefs_ \u001b[39m=\u001b[39m Parallel(\n\u001b[0;32m   <a href='file:///c%3A/Users/micha/anaconda3/envs/comp30830/lib/site-packages/sklearn/linear_model/_logistic.py?line=1589'>1590</a>\u001b[0m     n_jobs\u001b[39m=\u001b[39;49m\u001b[39mself\u001b[39;49m\u001b[39m.\u001b[39;49mn_jobs,\n\u001b[0;32m   <a href='file:///c%3A/Users/micha/anaconda3/envs/comp30830/lib/site-packages/sklearn/linear_model/_logistic.py?line=1590'>1591</a>\u001b[0m     verbose\u001b[39m=\u001b[39;49m\u001b[39mself\u001b[39;49m\u001b[39m.\u001b[39;49mverbose,\n\u001b[0;32m   <a href='file:///c%3A/Users/micha/anaconda3/envs/comp30830/lib/site-packages/sklearn/linear_model/_logistic.py?line=1591'>1592</a>\u001b[0m     \u001b[39m*\u001b[39;49m\u001b[39m*\u001b[39;49m_joblib_parallel_args(prefer\u001b[39m=\u001b[39;49mprefer),\n\u001b[0;32m   <a href='file:///c%3A/Users/micha/anaconda3/envs/comp30830/lib/site-packages/sklearn/linear_model/_logistic.py?line=1592'>1593</a>\u001b[0m )(\n\u001b[0;32m   <a href='file:///c%3A/Users/micha/anaconda3/envs/comp30830/lib/site-packages/sklearn/linear_model/_logistic.py?line=1593'>1594</a>\u001b[0m     path_func(\n\u001b[0;32m   <a href='file:///c%3A/Users/micha/anaconda3/envs/comp30830/lib/site-packages/sklearn/linear_model/_logistic.py?line=1594'>1595</a>\u001b[0m         X,\n\u001b[0;32m   <a href='file:///c%3A/Users/micha/anaconda3/envs/comp30830/lib/site-packages/sklearn/linear_model/_logistic.py?line=1595'>1596</a>\u001b[0m         y,\n\u001b[0;32m   <a href='file:///c%3A/Users/micha/anaconda3/envs/comp30830/lib/site-packages/sklearn/linear_model/_logistic.py?line=1596'>1597</a>\u001b[0m         pos_class\u001b[39m=\u001b[39;49mclass_,\n\u001b[0;32m   <a href='file:///c%3A/Users/micha/anaconda3/envs/comp30830/lib/site-packages/sklearn/linear_model/_logistic.py?line=1597'>1598</a>\u001b[0m         Cs\u001b[39m=\u001b[39;49m[C_],\n\u001b[0;32m   <a href='file:///c%3A/Users/micha/anaconda3/envs/comp30830/lib/site-packages/sklearn/linear_model/_logistic.py?line=1598'>1599</a>\u001b[0m         l1_ratio\u001b[39m=\u001b[39;49m\u001b[39mself\u001b[39;49m\u001b[39m.\u001b[39;49ml1_ratio,\n\u001b[0;32m   <a href='file:///c%3A/Users/micha/anaconda3/envs/comp30830/lib/site-packages/sklearn/linear_model/_logistic.py?line=1599'>1600</a>\u001b[0m         fit_intercept\u001b[39m=\u001b[39;49m\u001b[39mself\u001b[39;49m\u001b[39m.\u001b[39;49mfit_intercept,\n\u001b[0;32m   <a href='file:///c%3A/Users/micha/anaconda3/envs/comp30830/lib/site-packages/sklearn/linear_model/_logistic.py?line=1600'>1601</a>\u001b[0m         tol\u001b[39m=\u001b[39;49m\u001b[39mself\u001b[39;49m\u001b[39m.\u001b[39;49mtol,\n\u001b[0;32m   <a href='file:///c%3A/Users/micha/anaconda3/envs/comp30830/lib/site-packages/sklearn/linear_model/_logistic.py?line=1601'>1602</a>\u001b[0m         verbose\u001b[39m=\u001b[39;49m\u001b[39mself\u001b[39;49m\u001b[39m.\u001b[39;49mverbose,\n\u001b[0;32m   <a href='file:///c%3A/Users/micha/anaconda3/envs/comp30830/lib/site-packages/sklearn/linear_model/_logistic.py?line=1602'>1603</a>\u001b[0m         solver\u001b[39m=\u001b[39;49msolver,\n\u001b[0;32m   <a href='file:///c%3A/Users/micha/anaconda3/envs/comp30830/lib/site-packages/sklearn/linear_model/_logistic.py?line=1603'>1604</a>\u001b[0m         multi_class\u001b[39m=\u001b[39;49mmulti_class,\n\u001b[0;32m   <a href='file:///c%3A/Users/micha/anaconda3/envs/comp30830/lib/site-packages/sklearn/linear_model/_logistic.py?line=1604'>1605</a>\u001b[0m         max_iter\u001b[39m=\u001b[39;49m\u001b[39mself\u001b[39;49m\u001b[39m.\u001b[39;49mmax_iter,\n\u001b[0;32m   <a href='file:///c%3A/Users/micha/anaconda3/envs/comp30830/lib/site-packages/sklearn/linear_model/_logistic.py?line=1605'>1606</a>\u001b[0m         class_weight\u001b[39m=\u001b[39;49m\u001b[39mself\u001b[39;49m\u001b[39m.\u001b[39;49mclass_weight,\n\u001b[0;32m   <a href='file:///c%3A/Users/micha/anaconda3/envs/comp30830/lib/site-packages/sklearn/linear_model/_logistic.py?line=1606'>1607</a>\u001b[0m         check_input\u001b[39m=\u001b[39;49m\u001b[39mFalse\u001b[39;49;00m,\n\u001b[0;32m   <a href='file:///c%3A/Users/micha/anaconda3/envs/comp30830/lib/site-packages/sklearn/linear_model/_logistic.py?line=1607'>1608</a>\u001b[0m         random_state\u001b[39m=\u001b[39;49m\u001b[39mself\u001b[39;49m\u001b[39m.\u001b[39;49mrandom_state,\n\u001b[0;32m   <a href='file:///c%3A/Users/micha/anaconda3/envs/comp30830/lib/site-packages/sklearn/linear_model/_logistic.py?line=1608'>1609</a>\u001b[0m         coef\u001b[39m=\u001b[39;49mwarm_start_coef_,\n\u001b[0;32m   <a href='file:///c%3A/Users/micha/anaconda3/envs/comp30830/lib/site-packages/sklearn/linear_model/_logistic.py?line=1609'>1610</a>\u001b[0m         penalty\u001b[39m=\u001b[39;49mpenalty,\n\u001b[0;32m   <a href='file:///c%3A/Users/micha/anaconda3/envs/comp30830/lib/site-packages/sklearn/linear_model/_logistic.py?line=1610'>1611</a>\u001b[0m         max_squared_sum\u001b[39m=\u001b[39;49mmax_squared_sum,\n\u001b[0;32m   <a href='file:///c%3A/Users/micha/anaconda3/envs/comp30830/lib/site-packages/sklearn/linear_model/_logistic.py?line=1611'>1612</a>\u001b[0m         sample_weight\u001b[39m=\u001b[39;49msample_weight,\n\u001b[0;32m   <a href='file:///c%3A/Users/micha/anaconda3/envs/comp30830/lib/site-packages/sklearn/linear_model/_logistic.py?line=1612'>1613</a>\u001b[0m     )\n\u001b[0;32m   <a href='file:///c%3A/Users/micha/anaconda3/envs/comp30830/lib/site-packages/sklearn/linear_model/_logistic.py?line=1613'>1614</a>\u001b[0m     \u001b[39mfor\u001b[39;49;00m class_, warm_start_coef_ \u001b[39min\u001b[39;49;00m \u001b[39mzip\u001b[39;49m(classes_, warm_start_coef)\n\u001b[0;32m   <a href='file:///c%3A/Users/micha/anaconda3/envs/comp30830/lib/site-packages/sklearn/linear_model/_logistic.py?line=1614'>1615</a>\u001b[0m )\n\u001b[0;32m   <a href='file:///c%3A/Users/micha/anaconda3/envs/comp30830/lib/site-packages/sklearn/linear_model/_logistic.py?line=1616'>1617</a>\u001b[0m fold_coefs_, _, n_iter_ \u001b[39m=\u001b[39m \u001b[39mzip\u001b[39m(\u001b[39m*\u001b[39mfold_coefs_)\n\u001b[0;32m   <a href='file:///c%3A/Users/micha/anaconda3/envs/comp30830/lib/site-packages/sklearn/linear_model/_logistic.py?line=1617'>1618</a>\u001b[0m \u001b[39mself\u001b[39m\u001b[39m.\u001b[39mn_iter_ \u001b[39m=\u001b[39m np\u001b[39m.\u001b[39masarray(n_iter_, dtype\u001b[39m=\u001b[39mnp\u001b[39m.\u001b[39mint32)[:, \u001b[39m0\u001b[39m]\n",
      "File \u001b[1;32m~\\anaconda3\\envs\\comp30830\\lib\\site-packages\\joblib\\parallel.py:1043\u001b[0m, in \u001b[0;36mParallel.__call__\u001b[1;34m(self, iterable)\u001b[0m\n\u001b[0;32m   <a href='file:///c%3A/Users/micha/anaconda3/envs/comp30830/lib/site-packages/joblib/parallel.py?line=1033'>1034</a>\u001b[0m \u001b[39mtry\u001b[39;00m:\n\u001b[0;32m   <a href='file:///c%3A/Users/micha/anaconda3/envs/comp30830/lib/site-packages/joblib/parallel.py?line=1034'>1035</a>\u001b[0m     \u001b[39m# Only set self._iterating to True if at least a batch\u001b[39;00m\n\u001b[0;32m   <a href='file:///c%3A/Users/micha/anaconda3/envs/comp30830/lib/site-packages/joblib/parallel.py?line=1035'>1036</a>\u001b[0m     \u001b[39m# was dispatched. In particular this covers the edge\u001b[39;00m\n\u001b[1;32m   (...)\u001b[0m\n\u001b[0;32m   <a href='file:///c%3A/Users/micha/anaconda3/envs/comp30830/lib/site-packages/joblib/parallel.py?line=1039'>1040</a>\u001b[0m     \u001b[39m# was very quick and its callback already dispatched all the\u001b[39;00m\n\u001b[0;32m   <a href='file:///c%3A/Users/micha/anaconda3/envs/comp30830/lib/site-packages/joblib/parallel.py?line=1040'>1041</a>\u001b[0m     \u001b[39m# remaining jobs.\u001b[39;00m\n\u001b[0;32m   <a href='file:///c%3A/Users/micha/anaconda3/envs/comp30830/lib/site-packages/joblib/parallel.py?line=1041'>1042</a>\u001b[0m     \u001b[39mself\u001b[39m\u001b[39m.\u001b[39m_iterating \u001b[39m=\u001b[39m \u001b[39mFalse\u001b[39;00m\n\u001b[1;32m-> <a href='file:///c%3A/Users/micha/anaconda3/envs/comp30830/lib/site-packages/joblib/parallel.py?line=1042'>1043</a>\u001b[0m     \u001b[39mif\u001b[39;00m \u001b[39mself\u001b[39;49m\u001b[39m.\u001b[39;49mdispatch_one_batch(iterator):\n\u001b[0;32m   <a href='file:///c%3A/Users/micha/anaconda3/envs/comp30830/lib/site-packages/joblib/parallel.py?line=1043'>1044</a>\u001b[0m         \u001b[39mself\u001b[39m\u001b[39m.\u001b[39m_iterating \u001b[39m=\u001b[39m \u001b[39mself\u001b[39m\u001b[39m.\u001b[39m_original_iterator \u001b[39mis\u001b[39;00m \u001b[39mnot\u001b[39;00m \u001b[39mNone\u001b[39;00m\n\u001b[0;32m   <a href='file:///c%3A/Users/micha/anaconda3/envs/comp30830/lib/site-packages/joblib/parallel.py?line=1045'>1046</a>\u001b[0m     \u001b[39mwhile\u001b[39;00m \u001b[39mself\u001b[39m\u001b[39m.\u001b[39mdispatch_one_batch(iterator):\n",
      "File \u001b[1;32m~\\anaconda3\\envs\\comp30830\\lib\\site-packages\\joblib\\parallel.py:861\u001b[0m, in \u001b[0;36mParallel.dispatch_one_batch\u001b[1;34m(self, iterator)\u001b[0m\n\u001b[0;32m    <a href='file:///c%3A/Users/micha/anaconda3/envs/comp30830/lib/site-packages/joblib/parallel.py?line=858'>859</a>\u001b[0m     \u001b[39mreturn\u001b[39;00m \u001b[39mFalse\u001b[39;00m\n\u001b[0;32m    <a href='file:///c%3A/Users/micha/anaconda3/envs/comp30830/lib/site-packages/joblib/parallel.py?line=859'>860</a>\u001b[0m \u001b[39melse\u001b[39;00m:\n\u001b[1;32m--> <a href='file:///c%3A/Users/micha/anaconda3/envs/comp30830/lib/site-packages/joblib/parallel.py?line=860'>861</a>\u001b[0m     \u001b[39mself\u001b[39;49m\u001b[39m.\u001b[39;49m_dispatch(tasks)\n\u001b[0;32m    <a href='file:///c%3A/Users/micha/anaconda3/envs/comp30830/lib/site-packages/joblib/parallel.py?line=861'>862</a>\u001b[0m     \u001b[39mreturn\u001b[39;00m \u001b[39mTrue\u001b[39;00m\n",
      "File \u001b[1;32m~\\anaconda3\\envs\\comp30830\\lib\\site-packages\\joblib\\parallel.py:779\u001b[0m, in \u001b[0;36mParallel._dispatch\u001b[1;34m(self, batch)\u001b[0m\n\u001b[0;32m    <a href='file:///c%3A/Users/micha/anaconda3/envs/comp30830/lib/site-packages/joblib/parallel.py?line=776'>777</a>\u001b[0m \u001b[39mwith\u001b[39;00m \u001b[39mself\u001b[39m\u001b[39m.\u001b[39m_lock:\n\u001b[0;32m    <a href='file:///c%3A/Users/micha/anaconda3/envs/comp30830/lib/site-packages/joblib/parallel.py?line=777'>778</a>\u001b[0m     job_idx \u001b[39m=\u001b[39m \u001b[39mlen\u001b[39m(\u001b[39mself\u001b[39m\u001b[39m.\u001b[39m_jobs)\n\u001b[1;32m--> <a href='file:///c%3A/Users/micha/anaconda3/envs/comp30830/lib/site-packages/joblib/parallel.py?line=778'>779</a>\u001b[0m     job \u001b[39m=\u001b[39m \u001b[39mself\u001b[39;49m\u001b[39m.\u001b[39;49m_backend\u001b[39m.\u001b[39;49mapply_async(batch, callback\u001b[39m=\u001b[39;49mcb)\n\u001b[0;32m    <a href='file:///c%3A/Users/micha/anaconda3/envs/comp30830/lib/site-packages/joblib/parallel.py?line=779'>780</a>\u001b[0m     \u001b[39m# A job can complete so quickly than its callback is\u001b[39;00m\n\u001b[0;32m    <a href='file:///c%3A/Users/micha/anaconda3/envs/comp30830/lib/site-packages/joblib/parallel.py?line=780'>781</a>\u001b[0m     \u001b[39m# called before we get here, causing self._jobs to\u001b[39;00m\n\u001b[0;32m    <a href='file:///c%3A/Users/micha/anaconda3/envs/comp30830/lib/site-packages/joblib/parallel.py?line=781'>782</a>\u001b[0m     \u001b[39m# grow. To ensure correct results ordering, .insert is\u001b[39;00m\n\u001b[0;32m    <a href='file:///c%3A/Users/micha/anaconda3/envs/comp30830/lib/site-packages/joblib/parallel.py?line=782'>783</a>\u001b[0m     \u001b[39m# used (rather than .append) in the following line\u001b[39;00m\n\u001b[0;32m    <a href='file:///c%3A/Users/micha/anaconda3/envs/comp30830/lib/site-packages/joblib/parallel.py?line=783'>784</a>\u001b[0m     \u001b[39mself\u001b[39m\u001b[39m.\u001b[39m_jobs\u001b[39m.\u001b[39minsert(job_idx, job)\n",
      "File \u001b[1;32m~\\anaconda3\\envs\\comp30830\\lib\\site-packages\\joblib\\_parallel_backends.py:208\u001b[0m, in \u001b[0;36mSequentialBackend.apply_async\u001b[1;34m(self, func, callback)\u001b[0m\n\u001b[0;32m    <a href='file:///c%3A/Users/micha/anaconda3/envs/comp30830/lib/site-packages/joblib/_parallel_backends.py?line=205'>206</a>\u001b[0m \u001b[39mdef\u001b[39;00m \u001b[39mapply_async\u001b[39m(\u001b[39mself\u001b[39m, func, callback\u001b[39m=\u001b[39m\u001b[39mNone\u001b[39;00m):\n\u001b[0;32m    <a href='file:///c%3A/Users/micha/anaconda3/envs/comp30830/lib/site-packages/joblib/_parallel_backends.py?line=206'>207</a>\u001b[0m     \u001b[39m\"\"\"Schedule a func to be run\"\"\"\u001b[39;00m\n\u001b[1;32m--> <a href='file:///c%3A/Users/micha/anaconda3/envs/comp30830/lib/site-packages/joblib/_parallel_backends.py?line=207'>208</a>\u001b[0m     result \u001b[39m=\u001b[39m ImmediateResult(func)\n\u001b[0;32m    <a href='file:///c%3A/Users/micha/anaconda3/envs/comp30830/lib/site-packages/joblib/_parallel_backends.py?line=208'>209</a>\u001b[0m     \u001b[39mif\u001b[39;00m callback:\n\u001b[0;32m    <a href='file:///c%3A/Users/micha/anaconda3/envs/comp30830/lib/site-packages/joblib/_parallel_backends.py?line=209'>210</a>\u001b[0m         callback(result)\n",
      "File \u001b[1;32m~\\anaconda3\\envs\\comp30830\\lib\\site-packages\\joblib\\_parallel_backends.py:572\u001b[0m, in \u001b[0;36mImmediateResult.__init__\u001b[1;34m(self, batch)\u001b[0m\n\u001b[0;32m    <a href='file:///c%3A/Users/micha/anaconda3/envs/comp30830/lib/site-packages/joblib/_parallel_backends.py?line=568'>569</a>\u001b[0m \u001b[39mdef\u001b[39;00m \u001b[39m__init__\u001b[39m(\u001b[39mself\u001b[39m, batch):\n\u001b[0;32m    <a href='file:///c%3A/Users/micha/anaconda3/envs/comp30830/lib/site-packages/joblib/_parallel_backends.py?line=569'>570</a>\u001b[0m     \u001b[39m# Don't delay the application, to avoid keeping the input\u001b[39;00m\n\u001b[0;32m    <a href='file:///c%3A/Users/micha/anaconda3/envs/comp30830/lib/site-packages/joblib/_parallel_backends.py?line=570'>571</a>\u001b[0m     \u001b[39m# arguments in memory\u001b[39;00m\n\u001b[1;32m--> <a href='file:///c%3A/Users/micha/anaconda3/envs/comp30830/lib/site-packages/joblib/_parallel_backends.py?line=571'>572</a>\u001b[0m     \u001b[39mself\u001b[39m\u001b[39m.\u001b[39mresults \u001b[39m=\u001b[39m batch()\n",
      "File \u001b[1;32m~\\anaconda3\\envs\\comp30830\\lib\\site-packages\\joblib\\parallel.py:262\u001b[0m, in \u001b[0;36mBatchedCalls.__call__\u001b[1;34m(self)\u001b[0m\n\u001b[0;32m    <a href='file:///c%3A/Users/micha/anaconda3/envs/comp30830/lib/site-packages/joblib/parallel.py?line=257'>258</a>\u001b[0m \u001b[39mdef\u001b[39;00m \u001b[39m__call__\u001b[39m(\u001b[39mself\u001b[39m):\n\u001b[0;32m    <a href='file:///c%3A/Users/micha/anaconda3/envs/comp30830/lib/site-packages/joblib/parallel.py?line=258'>259</a>\u001b[0m     \u001b[39m# Set the default nested backend to self._backend but do not set the\u001b[39;00m\n\u001b[0;32m    <a href='file:///c%3A/Users/micha/anaconda3/envs/comp30830/lib/site-packages/joblib/parallel.py?line=259'>260</a>\u001b[0m     \u001b[39m# change the default number of processes to -1\u001b[39;00m\n\u001b[0;32m    <a href='file:///c%3A/Users/micha/anaconda3/envs/comp30830/lib/site-packages/joblib/parallel.py?line=260'>261</a>\u001b[0m     \u001b[39mwith\u001b[39;00m parallel_backend(\u001b[39mself\u001b[39m\u001b[39m.\u001b[39m_backend, n_jobs\u001b[39m=\u001b[39m\u001b[39mself\u001b[39m\u001b[39m.\u001b[39m_n_jobs):\n\u001b[1;32m--> <a href='file:///c%3A/Users/micha/anaconda3/envs/comp30830/lib/site-packages/joblib/parallel.py?line=261'>262</a>\u001b[0m         \u001b[39mreturn\u001b[39;00m [func(\u001b[39m*\u001b[39margs, \u001b[39m*\u001b[39m\u001b[39m*\u001b[39mkwargs)\n\u001b[0;32m    <a href='file:///c%3A/Users/micha/anaconda3/envs/comp30830/lib/site-packages/joblib/parallel.py?line=262'>263</a>\u001b[0m                 \u001b[39mfor\u001b[39;00m func, args, kwargs \u001b[39min\u001b[39;00m \u001b[39mself\u001b[39m\u001b[39m.\u001b[39mitems]\n",
      "File \u001b[1;32m~\\anaconda3\\envs\\comp30830\\lib\\site-packages\\joblib\\parallel.py:262\u001b[0m, in \u001b[0;36m<listcomp>\u001b[1;34m(.0)\u001b[0m\n\u001b[0;32m    <a href='file:///c%3A/Users/micha/anaconda3/envs/comp30830/lib/site-packages/joblib/parallel.py?line=257'>258</a>\u001b[0m \u001b[39mdef\u001b[39;00m \u001b[39m__call__\u001b[39m(\u001b[39mself\u001b[39m):\n\u001b[0;32m    <a href='file:///c%3A/Users/micha/anaconda3/envs/comp30830/lib/site-packages/joblib/parallel.py?line=258'>259</a>\u001b[0m     \u001b[39m# Set the default nested backend to self._backend but do not set the\u001b[39;00m\n\u001b[0;32m    <a href='file:///c%3A/Users/micha/anaconda3/envs/comp30830/lib/site-packages/joblib/parallel.py?line=259'>260</a>\u001b[0m     \u001b[39m# change the default number of processes to -1\u001b[39;00m\n\u001b[0;32m    <a href='file:///c%3A/Users/micha/anaconda3/envs/comp30830/lib/site-packages/joblib/parallel.py?line=260'>261</a>\u001b[0m     \u001b[39mwith\u001b[39;00m parallel_backend(\u001b[39mself\u001b[39m\u001b[39m.\u001b[39m_backend, n_jobs\u001b[39m=\u001b[39m\u001b[39mself\u001b[39m\u001b[39m.\u001b[39m_n_jobs):\n\u001b[1;32m--> <a href='file:///c%3A/Users/micha/anaconda3/envs/comp30830/lib/site-packages/joblib/parallel.py?line=261'>262</a>\u001b[0m         \u001b[39mreturn\u001b[39;00m [func(\u001b[39m*\u001b[39margs, \u001b[39m*\u001b[39m\u001b[39m*\u001b[39mkwargs)\n\u001b[0;32m    <a href='file:///c%3A/Users/micha/anaconda3/envs/comp30830/lib/site-packages/joblib/parallel.py?line=262'>263</a>\u001b[0m                 \u001b[39mfor\u001b[39;00m func, args, kwargs \u001b[39min\u001b[39;00m \u001b[39mself\u001b[39m\u001b[39m.\u001b[39mitems]\n",
      "File \u001b[1;32m~\\anaconda3\\envs\\comp30830\\lib\\site-packages\\sklearn\\utils\\fixes.py:216\u001b[0m, in \u001b[0;36m_FuncWrapper.__call__\u001b[1;34m(self, *args, **kwargs)\u001b[0m\n\u001b[0;32m    <a href='file:///c%3A/Users/micha/anaconda3/envs/comp30830/lib/site-packages/sklearn/utils/fixes.py?line=213'>214</a>\u001b[0m \u001b[39mdef\u001b[39;00m \u001b[39m__call__\u001b[39m(\u001b[39mself\u001b[39m, \u001b[39m*\u001b[39margs, \u001b[39m*\u001b[39m\u001b[39m*\u001b[39mkwargs):\n\u001b[0;32m    <a href='file:///c%3A/Users/micha/anaconda3/envs/comp30830/lib/site-packages/sklearn/utils/fixes.py?line=214'>215</a>\u001b[0m     \u001b[39mwith\u001b[39;00m config_context(\u001b[39m*\u001b[39m\u001b[39m*\u001b[39m\u001b[39mself\u001b[39m\u001b[39m.\u001b[39mconfig):\n\u001b[1;32m--> <a href='file:///c%3A/Users/micha/anaconda3/envs/comp30830/lib/site-packages/sklearn/utils/fixes.py?line=215'>216</a>\u001b[0m         \u001b[39mreturn\u001b[39;00m \u001b[39mself\u001b[39m\u001b[39m.\u001b[39mfunction(\u001b[39m*\u001b[39margs, \u001b[39m*\u001b[39m\u001b[39m*\u001b[39mkwargs)\n",
      "File \u001b[1;32m~\\anaconda3\\envs\\comp30830\\lib\\site-packages\\sklearn\\linear_model\\_logistic.py:806\u001b[0m, in \u001b[0;36m_logistic_regression_path\u001b[1;34m(X, y, pos_class, Cs, fit_intercept, max_iter, tol, verbose, solver, coef, class_weight, dual, penalty, intercept_scaling, multi_class, random_state, check_input, max_squared_sum, sample_weight, l1_ratio)\u001b[0m\n\u001b[0;32m    <a href='file:///c%3A/Users/micha/anaconda3/envs/comp30830/lib/site-packages/sklearn/linear_model/_logistic.py?line=801'>802</a>\u001b[0m \u001b[39mif\u001b[39;00m solver \u001b[39m==\u001b[39m \u001b[39m\"\u001b[39m\u001b[39mlbfgs\u001b[39m\u001b[39m\"\u001b[39m:\n\u001b[0;32m    <a href='file:///c%3A/Users/micha/anaconda3/envs/comp30830/lib/site-packages/sklearn/linear_model/_logistic.py?line=802'>803</a>\u001b[0m     iprint \u001b[39m=\u001b[39m [\u001b[39m-\u001b[39m\u001b[39m1\u001b[39m, \u001b[39m50\u001b[39m, \u001b[39m1\u001b[39m, \u001b[39m100\u001b[39m, \u001b[39m101\u001b[39m][\n\u001b[0;32m    <a href='file:///c%3A/Users/micha/anaconda3/envs/comp30830/lib/site-packages/sklearn/linear_model/_logistic.py?line=803'>804</a>\u001b[0m         np\u001b[39m.\u001b[39msearchsorted(np\u001b[39m.\u001b[39marray([\u001b[39m0\u001b[39m, \u001b[39m1\u001b[39m, \u001b[39m2\u001b[39m, \u001b[39m3\u001b[39m]), verbose)\n\u001b[0;32m    <a href='file:///c%3A/Users/micha/anaconda3/envs/comp30830/lib/site-packages/sklearn/linear_model/_logistic.py?line=804'>805</a>\u001b[0m     ]\n\u001b[1;32m--> <a href='file:///c%3A/Users/micha/anaconda3/envs/comp30830/lib/site-packages/sklearn/linear_model/_logistic.py?line=805'>806</a>\u001b[0m     opt_res \u001b[39m=\u001b[39m optimize\u001b[39m.\u001b[39;49mminimize(\n\u001b[0;32m    <a href='file:///c%3A/Users/micha/anaconda3/envs/comp30830/lib/site-packages/sklearn/linear_model/_logistic.py?line=806'>807</a>\u001b[0m         func,\n\u001b[0;32m    <a href='file:///c%3A/Users/micha/anaconda3/envs/comp30830/lib/site-packages/sklearn/linear_model/_logistic.py?line=807'>808</a>\u001b[0m         w0,\n\u001b[0;32m    <a href='file:///c%3A/Users/micha/anaconda3/envs/comp30830/lib/site-packages/sklearn/linear_model/_logistic.py?line=808'>809</a>\u001b[0m         method\u001b[39m=\u001b[39;49m\u001b[39m\"\u001b[39;49m\u001b[39mL-BFGS-B\u001b[39;49m\u001b[39m\"\u001b[39;49m,\n\u001b[0;32m    <a href='file:///c%3A/Users/micha/anaconda3/envs/comp30830/lib/site-packages/sklearn/linear_model/_logistic.py?line=809'>810</a>\u001b[0m         jac\u001b[39m=\u001b[39;49m\u001b[39mTrue\u001b[39;49;00m,\n\u001b[0;32m    <a href='file:///c%3A/Users/micha/anaconda3/envs/comp30830/lib/site-packages/sklearn/linear_model/_logistic.py?line=810'>811</a>\u001b[0m         args\u001b[39m=\u001b[39;49m(X, target, \u001b[39m1.0\u001b[39;49m \u001b[39m/\u001b[39;49m C, sample_weight),\n\u001b[0;32m    <a href='file:///c%3A/Users/micha/anaconda3/envs/comp30830/lib/site-packages/sklearn/linear_model/_logistic.py?line=811'>812</a>\u001b[0m         options\u001b[39m=\u001b[39;49m{\u001b[39m\"\u001b[39;49m\u001b[39miprint\u001b[39;49m\u001b[39m\"\u001b[39;49m: iprint, \u001b[39m\"\u001b[39;49m\u001b[39mgtol\u001b[39;49m\u001b[39m\"\u001b[39;49m: tol, \u001b[39m\"\u001b[39;49m\u001b[39mmaxiter\u001b[39;49m\u001b[39m\"\u001b[39;49m: max_iter},\n\u001b[0;32m    <a href='file:///c%3A/Users/micha/anaconda3/envs/comp30830/lib/site-packages/sklearn/linear_model/_logistic.py?line=812'>813</a>\u001b[0m     )\n\u001b[0;32m    <a href='file:///c%3A/Users/micha/anaconda3/envs/comp30830/lib/site-packages/sklearn/linear_model/_logistic.py?line=813'>814</a>\u001b[0m     n_iter_i \u001b[39m=\u001b[39m _check_optimize_result(\n\u001b[0;32m    <a href='file:///c%3A/Users/micha/anaconda3/envs/comp30830/lib/site-packages/sklearn/linear_model/_logistic.py?line=814'>815</a>\u001b[0m         solver,\n\u001b[0;32m    <a href='file:///c%3A/Users/micha/anaconda3/envs/comp30830/lib/site-packages/sklearn/linear_model/_logistic.py?line=815'>816</a>\u001b[0m         opt_res,\n\u001b[0;32m    <a href='file:///c%3A/Users/micha/anaconda3/envs/comp30830/lib/site-packages/sklearn/linear_model/_logistic.py?line=816'>817</a>\u001b[0m         max_iter,\n\u001b[0;32m    <a href='file:///c%3A/Users/micha/anaconda3/envs/comp30830/lib/site-packages/sklearn/linear_model/_logistic.py?line=817'>818</a>\u001b[0m         extra_warning_msg\u001b[39m=\u001b[39m_LOGISTIC_SOLVER_CONVERGENCE_MSG,\n\u001b[0;32m    <a href='file:///c%3A/Users/micha/anaconda3/envs/comp30830/lib/site-packages/sklearn/linear_model/_logistic.py?line=818'>819</a>\u001b[0m     )\n\u001b[0;32m    <a href='file:///c%3A/Users/micha/anaconda3/envs/comp30830/lib/site-packages/sklearn/linear_model/_logistic.py?line=819'>820</a>\u001b[0m     w0, loss \u001b[39m=\u001b[39m opt_res\u001b[39m.\u001b[39mx, opt_res\u001b[39m.\u001b[39mfun\n",
      "File \u001b[1;32m~\\anaconda3\\envs\\comp30830\\lib\\site-packages\\scipy\\optimize\\_minimize.py:623\u001b[0m, in \u001b[0;36mminimize\u001b[1;34m(fun, x0, args, method, jac, hess, hessp, bounds, constraints, tol, callback, options)\u001b[0m\n\u001b[0;32m    <a href='file:///c%3A/Users/micha/anaconda3/envs/comp30830/lib/site-packages/scipy/optimize/_minimize.py?line=619'>620</a>\u001b[0m     \u001b[39mreturn\u001b[39;00m _minimize_newtoncg(fun, x0, args, jac, hess, hessp, callback,\n\u001b[0;32m    <a href='file:///c%3A/Users/micha/anaconda3/envs/comp30830/lib/site-packages/scipy/optimize/_minimize.py?line=620'>621</a>\u001b[0m                               \u001b[39m*\u001b[39m\u001b[39m*\u001b[39moptions)\n\u001b[0;32m    <a href='file:///c%3A/Users/micha/anaconda3/envs/comp30830/lib/site-packages/scipy/optimize/_minimize.py?line=621'>622</a>\u001b[0m \u001b[39melif\u001b[39;00m meth \u001b[39m==\u001b[39m \u001b[39m'\u001b[39m\u001b[39ml-bfgs-b\u001b[39m\u001b[39m'\u001b[39m:\n\u001b[1;32m--> <a href='file:///c%3A/Users/micha/anaconda3/envs/comp30830/lib/site-packages/scipy/optimize/_minimize.py?line=622'>623</a>\u001b[0m     \u001b[39mreturn\u001b[39;00m _minimize_lbfgsb(fun, x0, args, jac, bounds,\n\u001b[0;32m    <a href='file:///c%3A/Users/micha/anaconda3/envs/comp30830/lib/site-packages/scipy/optimize/_minimize.py?line=623'>624</a>\u001b[0m                             callback\u001b[39m=\u001b[39mcallback, \u001b[39m*\u001b[39m\u001b[39m*\u001b[39moptions)\n\u001b[0;32m    <a href='file:///c%3A/Users/micha/anaconda3/envs/comp30830/lib/site-packages/scipy/optimize/_minimize.py?line=624'>625</a>\u001b[0m \u001b[39melif\u001b[39;00m meth \u001b[39m==\u001b[39m \u001b[39m'\u001b[39m\u001b[39mtnc\u001b[39m\u001b[39m'\u001b[39m:\n\u001b[0;32m    <a href='file:///c%3A/Users/micha/anaconda3/envs/comp30830/lib/site-packages/scipy/optimize/_minimize.py?line=625'>626</a>\u001b[0m     \u001b[39mreturn\u001b[39;00m _minimize_tnc(fun, x0, args, jac, bounds, callback\u001b[39m=\u001b[39mcallback,\n\u001b[0;32m    <a href='file:///c%3A/Users/micha/anaconda3/envs/comp30830/lib/site-packages/scipy/optimize/_minimize.py?line=626'>627</a>\u001b[0m                          \u001b[39m*\u001b[39m\u001b[39m*\u001b[39moptions)\n",
      "File \u001b[1;32m~\\anaconda3\\envs\\comp30830\\lib\\site-packages\\scipy\\optimize\\lbfgsb.py:360\u001b[0m, in \u001b[0;36m_minimize_lbfgsb\u001b[1;34m(fun, x0, args, jac, bounds, disp, maxcor, ftol, gtol, eps, maxfun, maxiter, iprint, callback, maxls, finite_diff_rel_step, **unknown_options)\u001b[0m\n\u001b[0;32m    <a href='file:///c%3A/Users/micha/anaconda3/envs/comp30830/lib/site-packages/scipy/optimize/lbfgsb.py?line=353'>354</a>\u001b[0m task_str \u001b[39m=\u001b[39m task\u001b[39m.\u001b[39mtobytes()\n\u001b[0;32m    <a href='file:///c%3A/Users/micha/anaconda3/envs/comp30830/lib/site-packages/scipy/optimize/lbfgsb.py?line=354'>355</a>\u001b[0m \u001b[39mif\u001b[39;00m task_str\u001b[39m.\u001b[39mstartswith(\u001b[39mb\u001b[39m\u001b[39m'\u001b[39m\u001b[39mFG\u001b[39m\u001b[39m'\u001b[39m):\n\u001b[0;32m    <a href='file:///c%3A/Users/micha/anaconda3/envs/comp30830/lib/site-packages/scipy/optimize/lbfgsb.py?line=355'>356</a>\u001b[0m     \u001b[39m# The minimization routine wants f and g at the current x.\u001b[39;00m\n\u001b[0;32m    <a href='file:///c%3A/Users/micha/anaconda3/envs/comp30830/lib/site-packages/scipy/optimize/lbfgsb.py?line=356'>357</a>\u001b[0m     \u001b[39m# Note that interruptions due to maxfun are postponed\u001b[39;00m\n\u001b[0;32m    <a href='file:///c%3A/Users/micha/anaconda3/envs/comp30830/lib/site-packages/scipy/optimize/lbfgsb.py?line=357'>358</a>\u001b[0m     \u001b[39m# until the completion of the current minimization iteration.\u001b[39;00m\n\u001b[0;32m    <a href='file:///c%3A/Users/micha/anaconda3/envs/comp30830/lib/site-packages/scipy/optimize/lbfgsb.py?line=358'>359</a>\u001b[0m     \u001b[39m# Overwrite f and g:\u001b[39;00m\n\u001b[1;32m--> <a href='file:///c%3A/Users/micha/anaconda3/envs/comp30830/lib/site-packages/scipy/optimize/lbfgsb.py?line=359'>360</a>\u001b[0m     f, g \u001b[39m=\u001b[39m func_and_grad(x)\n\u001b[0;32m    <a href='file:///c%3A/Users/micha/anaconda3/envs/comp30830/lib/site-packages/scipy/optimize/lbfgsb.py?line=360'>361</a>\u001b[0m \u001b[39melif\u001b[39;00m task_str\u001b[39m.\u001b[39mstartswith(\u001b[39mb\u001b[39m\u001b[39m'\u001b[39m\u001b[39mNEW_X\u001b[39m\u001b[39m'\u001b[39m):\n\u001b[0;32m    <a href='file:///c%3A/Users/micha/anaconda3/envs/comp30830/lib/site-packages/scipy/optimize/lbfgsb.py?line=361'>362</a>\u001b[0m     \u001b[39m# new iteration\u001b[39;00m\n\u001b[0;32m    <a href='file:///c%3A/Users/micha/anaconda3/envs/comp30830/lib/site-packages/scipy/optimize/lbfgsb.py?line=362'>363</a>\u001b[0m     n_iterations \u001b[39m+\u001b[39m\u001b[39m=\u001b[39m \u001b[39m1\u001b[39m\n",
      "File \u001b[1;32m~\\anaconda3\\envs\\comp30830\\lib\\site-packages\\scipy\\optimize\\_differentiable_functions.py:267\u001b[0m, in \u001b[0;36mScalarFunction.fun_and_grad\u001b[1;34m(self, x)\u001b[0m\n\u001b[0;32m    <a href='file:///c%3A/Users/micha/anaconda3/envs/comp30830/lib/site-packages/scipy/optimize/_differentiable_functions.py?line=264'>265</a>\u001b[0m \u001b[39mif\u001b[39;00m \u001b[39mnot\u001b[39;00m np\u001b[39m.\u001b[39marray_equal(x, \u001b[39mself\u001b[39m\u001b[39m.\u001b[39mx):\n\u001b[0;32m    <a href='file:///c%3A/Users/micha/anaconda3/envs/comp30830/lib/site-packages/scipy/optimize/_differentiable_functions.py?line=265'>266</a>\u001b[0m     \u001b[39mself\u001b[39m\u001b[39m.\u001b[39m_update_x_impl(x)\n\u001b[1;32m--> <a href='file:///c%3A/Users/micha/anaconda3/envs/comp30830/lib/site-packages/scipy/optimize/_differentiable_functions.py?line=266'>267</a>\u001b[0m \u001b[39mself\u001b[39;49m\u001b[39m.\u001b[39;49m_update_fun()\n\u001b[0;32m    <a href='file:///c%3A/Users/micha/anaconda3/envs/comp30830/lib/site-packages/scipy/optimize/_differentiable_functions.py?line=267'>268</a>\u001b[0m \u001b[39mself\u001b[39m\u001b[39m.\u001b[39m_update_grad()\n\u001b[0;32m    <a href='file:///c%3A/Users/micha/anaconda3/envs/comp30830/lib/site-packages/scipy/optimize/_differentiable_functions.py?line=268'>269</a>\u001b[0m \u001b[39mreturn\u001b[39;00m \u001b[39mself\u001b[39m\u001b[39m.\u001b[39mf, \u001b[39mself\u001b[39m\u001b[39m.\u001b[39mg\n",
      "File \u001b[1;32m~\\anaconda3\\envs\\comp30830\\lib\\site-packages\\scipy\\optimize\\_differentiable_functions.py:233\u001b[0m, in \u001b[0;36mScalarFunction._update_fun\u001b[1;34m(self)\u001b[0m\n\u001b[0;32m    <a href='file:///c%3A/Users/micha/anaconda3/envs/comp30830/lib/site-packages/scipy/optimize/_differentiable_functions.py?line=230'>231</a>\u001b[0m \u001b[39mdef\u001b[39;00m \u001b[39m_update_fun\u001b[39m(\u001b[39mself\u001b[39m):\n\u001b[0;32m    <a href='file:///c%3A/Users/micha/anaconda3/envs/comp30830/lib/site-packages/scipy/optimize/_differentiable_functions.py?line=231'>232</a>\u001b[0m     \u001b[39mif\u001b[39;00m \u001b[39mnot\u001b[39;00m \u001b[39mself\u001b[39m\u001b[39m.\u001b[39mf_updated:\n\u001b[1;32m--> <a href='file:///c%3A/Users/micha/anaconda3/envs/comp30830/lib/site-packages/scipy/optimize/_differentiable_functions.py?line=232'>233</a>\u001b[0m         \u001b[39mself\u001b[39;49m\u001b[39m.\u001b[39;49m_update_fun_impl()\n\u001b[0;32m    <a href='file:///c%3A/Users/micha/anaconda3/envs/comp30830/lib/site-packages/scipy/optimize/_differentiable_functions.py?line=233'>234</a>\u001b[0m         \u001b[39mself\u001b[39m\u001b[39m.\u001b[39mf_updated \u001b[39m=\u001b[39m \u001b[39mTrue\u001b[39;00m\n",
      "File \u001b[1;32m~\\anaconda3\\envs\\comp30830\\lib\\site-packages\\scipy\\optimize\\_differentiable_functions.py:137\u001b[0m, in \u001b[0;36mScalarFunction.__init__.<locals>.update_fun\u001b[1;34m()\u001b[0m\n\u001b[0;32m    <a href='file:///c%3A/Users/micha/anaconda3/envs/comp30830/lib/site-packages/scipy/optimize/_differentiable_functions.py?line=135'>136</a>\u001b[0m \u001b[39mdef\u001b[39;00m \u001b[39mupdate_fun\u001b[39m():\n\u001b[1;32m--> <a href='file:///c%3A/Users/micha/anaconda3/envs/comp30830/lib/site-packages/scipy/optimize/_differentiable_functions.py?line=136'>137</a>\u001b[0m     \u001b[39mself\u001b[39m\u001b[39m.\u001b[39mf \u001b[39m=\u001b[39m fun_wrapped(\u001b[39mself\u001b[39;49m\u001b[39m.\u001b[39;49mx)\n",
      "File \u001b[1;32m~\\anaconda3\\envs\\comp30830\\lib\\site-packages\\scipy\\optimize\\_differentiable_functions.py:134\u001b[0m, in \u001b[0;36mScalarFunction.__init__.<locals>.fun_wrapped\u001b[1;34m(x)\u001b[0m\n\u001b[0;32m    <a href='file:///c%3A/Users/micha/anaconda3/envs/comp30830/lib/site-packages/scipy/optimize/_differentiable_functions.py?line=129'>130</a>\u001b[0m \u001b[39mself\u001b[39m\u001b[39m.\u001b[39mnfev \u001b[39m+\u001b[39m\u001b[39m=\u001b[39m \u001b[39m1\u001b[39m\n\u001b[0;32m    <a href='file:///c%3A/Users/micha/anaconda3/envs/comp30830/lib/site-packages/scipy/optimize/_differentiable_functions.py?line=130'>131</a>\u001b[0m \u001b[39m# Send a copy because the user may overwrite it.\u001b[39;00m\n\u001b[0;32m    <a href='file:///c%3A/Users/micha/anaconda3/envs/comp30830/lib/site-packages/scipy/optimize/_differentiable_functions.py?line=131'>132</a>\u001b[0m \u001b[39m# Overwriting results in undefined behaviour because\u001b[39;00m\n\u001b[0;32m    <a href='file:///c%3A/Users/micha/anaconda3/envs/comp30830/lib/site-packages/scipy/optimize/_differentiable_functions.py?line=132'>133</a>\u001b[0m \u001b[39m# fun(self.x) will change self.x, with the two no longer linked.\u001b[39;00m\n\u001b[1;32m--> <a href='file:///c%3A/Users/micha/anaconda3/envs/comp30830/lib/site-packages/scipy/optimize/_differentiable_functions.py?line=133'>134</a>\u001b[0m \u001b[39mreturn\u001b[39;00m fun(np\u001b[39m.\u001b[39;49mcopy(x), \u001b[39m*\u001b[39;49margs)\n",
      "File \u001b[1;32m~\\anaconda3\\envs\\comp30830\\lib\\site-packages\\scipy\\optimize\\optimize.py:74\u001b[0m, in \u001b[0;36mMemoizeJac.__call__\u001b[1;34m(self, x, *args)\u001b[0m\n\u001b[0;32m     <a href='file:///c%3A/Users/micha/anaconda3/envs/comp30830/lib/site-packages/scipy/optimize/optimize.py?line=71'>72</a>\u001b[0m \u001b[39mdef\u001b[39;00m \u001b[39m__call__\u001b[39m(\u001b[39mself\u001b[39m, x, \u001b[39m*\u001b[39margs):\n\u001b[0;32m     <a href='file:///c%3A/Users/micha/anaconda3/envs/comp30830/lib/site-packages/scipy/optimize/optimize.py?line=72'>73</a>\u001b[0m     \u001b[39m\"\"\" returns the the function value \"\"\"\u001b[39;00m\n\u001b[1;32m---> <a href='file:///c%3A/Users/micha/anaconda3/envs/comp30830/lib/site-packages/scipy/optimize/optimize.py?line=73'>74</a>\u001b[0m     \u001b[39mself\u001b[39;49m\u001b[39m.\u001b[39;49m_compute_if_needed(x, \u001b[39m*\u001b[39;49margs)\n\u001b[0;32m     <a href='file:///c%3A/Users/micha/anaconda3/envs/comp30830/lib/site-packages/scipy/optimize/optimize.py?line=74'>75</a>\u001b[0m     \u001b[39mreturn\u001b[39;00m \u001b[39mself\u001b[39m\u001b[39m.\u001b[39m_value\n",
      "File \u001b[1;32m~\\anaconda3\\envs\\comp30830\\lib\\site-packages\\scipy\\optimize\\optimize.py:68\u001b[0m, in \u001b[0;36mMemoizeJac._compute_if_needed\u001b[1;34m(self, x, *args)\u001b[0m\n\u001b[0;32m     <a href='file:///c%3A/Users/micha/anaconda3/envs/comp30830/lib/site-packages/scipy/optimize/optimize.py?line=65'>66</a>\u001b[0m \u001b[39mif\u001b[39;00m \u001b[39mnot\u001b[39;00m np\u001b[39m.\u001b[39mall(x \u001b[39m==\u001b[39m \u001b[39mself\u001b[39m\u001b[39m.\u001b[39mx) \u001b[39mor\u001b[39;00m \u001b[39mself\u001b[39m\u001b[39m.\u001b[39m_value \u001b[39mis\u001b[39;00m \u001b[39mNone\u001b[39;00m \u001b[39mor\u001b[39;00m \u001b[39mself\u001b[39m\u001b[39m.\u001b[39mjac \u001b[39mis\u001b[39;00m \u001b[39mNone\u001b[39;00m:\n\u001b[0;32m     <a href='file:///c%3A/Users/micha/anaconda3/envs/comp30830/lib/site-packages/scipy/optimize/optimize.py?line=66'>67</a>\u001b[0m     \u001b[39mself\u001b[39m\u001b[39m.\u001b[39mx \u001b[39m=\u001b[39m np\u001b[39m.\u001b[39masarray(x)\u001b[39m.\u001b[39mcopy()\n\u001b[1;32m---> <a href='file:///c%3A/Users/micha/anaconda3/envs/comp30830/lib/site-packages/scipy/optimize/optimize.py?line=67'>68</a>\u001b[0m     fg \u001b[39m=\u001b[39m \u001b[39mself\u001b[39;49m\u001b[39m.\u001b[39;49mfun(x, \u001b[39m*\u001b[39;49margs)\n\u001b[0;32m     <a href='file:///c%3A/Users/micha/anaconda3/envs/comp30830/lib/site-packages/scipy/optimize/optimize.py?line=68'>69</a>\u001b[0m     \u001b[39mself\u001b[39m\u001b[39m.\u001b[39mjac \u001b[39m=\u001b[39m fg[\u001b[39m1\u001b[39m]\n\u001b[0;32m     <a href='file:///c%3A/Users/micha/anaconda3/envs/comp30830/lib/site-packages/scipy/optimize/optimize.py?line=69'>70</a>\u001b[0m     \u001b[39mself\u001b[39m\u001b[39m.\u001b[39m_value \u001b[39m=\u001b[39m fg[\u001b[39m0\u001b[39m]\n",
      "File \u001b[1;32m~\\anaconda3\\envs\\comp30830\\lib\\site-packages\\sklearn\\linear_model\\_logistic.py:774\u001b[0m, in \u001b[0;36m_logistic_regression_path.<locals>.func\u001b[1;34m(x, *args)\u001b[0m\n\u001b[0;32m    <a href='file:///c%3A/Users/micha/anaconda3/envs/comp30830/lib/site-packages/sklearn/linear_model/_logistic.py?line=772'>773</a>\u001b[0m \u001b[39mdef\u001b[39;00m \u001b[39mfunc\u001b[39m(x, \u001b[39m*\u001b[39margs):\n\u001b[1;32m--> <a href='file:///c%3A/Users/micha/anaconda3/envs/comp30830/lib/site-packages/sklearn/linear_model/_logistic.py?line=773'>774</a>\u001b[0m     \u001b[39mreturn\u001b[39;00m _multinomial_loss_grad(x, \u001b[39m*\u001b[39;49margs)[\u001b[39m0\u001b[39m:\u001b[39m2\u001b[39m]\n",
      "File \u001b[1;32m~\\anaconda3\\envs\\comp30830\\lib\\site-packages\\sklearn\\linear_model\\_logistic.py:348\u001b[0m, in \u001b[0;36m_multinomial_loss_grad\u001b[1;34m(w, X, Y, alpha, sample_weight)\u001b[0m\n\u001b[0;32m    <a href='file:///c%3A/Users/micha/anaconda3/envs/comp30830/lib/site-packages/sklearn/linear_model/_logistic.py?line=345'>346</a>\u001b[0m fit_intercept \u001b[39m=\u001b[39m w\u001b[39m.\u001b[39msize \u001b[39m==\u001b[39m n_classes \u001b[39m*\u001b[39m (n_features \u001b[39m+\u001b[39m \u001b[39m1\u001b[39m)\n\u001b[0;32m    <a href='file:///c%3A/Users/micha/anaconda3/envs/comp30830/lib/site-packages/sklearn/linear_model/_logistic.py?line=346'>347</a>\u001b[0m grad \u001b[39m=\u001b[39m np\u001b[39m.\u001b[39mzeros((n_classes, n_features \u001b[39m+\u001b[39m \u001b[39mbool\u001b[39m(fit_intercept)), dtype\u001b[39m=\u001b[39mX\u001b[39m.\u001b[39mdtype)\n\u001b[1;32m--> <a href='file:///c%3A/Users/micha/anaconda3/envs/comp30830/lib/site-packages/sklearn/linear_model/_logistic.py?line=347'>348</a>\u001b[0m loss, p, w \u001b[39m=\u001b[39m _multinomial_loss(w, X, Y, alpha, sample_weight)\n\u001b[0;32m    <a href='file:///c%3A/Users/micha/anaconda3/envs/comp30830/lib/site-packages/sklearn/linear_model/_logistic.py?line=348'>349</a>\u001b[0m sample_weight \u001b[39m=\u001b[39m sample_weight[:, np\u001b[39m.\u001b[39mnewaxis]\n\u001b[0;32m    <a href='file:///c%3A/Users/micha/anaconda3/envs/comp30830/lib/site-packages/sklearn/linear_model/_logistic.py?line=349'>350</a>\u001b[0m diff \u001b[39m=\u001b[39m sample_weight \u001b[39m*\u001b[39m (p \u001b[39m-\u001b[39m Y)\n",
      "File \u001b[1;32m~\\anaconda3\\envs\\comp30830\\lib\\site-packages\\sklearn\\linear_model\\_logistic.py:300\u001b[0m, in \u001b[0;36m_multinomial_loss\u001b[1;34m(w, X, Y, alpha, sample_weight)\u001b[0m\n\u001b[0;32m    <a href='file:///c%3A/Users/micha/anaconda3/envs/comp30830/lib/site-packages/sklearn/linear_model/_logistic.py?line=297'>298</a>\u001b[0m p \u001b[39m+\u001b[39m\u001b[39m=\u001b[39m intercept\n\u001b[0;32m    <a href='file:///c%3A/Users/micha/anaconda3/envs/comp30830/lib/site-packages/sklearn/linear_model/_logistic.py?line=298'>299</a>\u001b[0m p \u001b[39m-\u001b[39m\u001b[39m=\u001b[39m logsumexp(p, axis\u001b[39m=\u001b[39m\u001b[39m1\u001b[39m)[:, np\u001b[39m.\u001b[39mnewaxis]\n\u001b[1;32m--> <a href='file:///c%3A/Users/micha/anaconda3/envs/comp30830/lib/site-packages/sklearn/linear_model/_logistic.py?line=299'>300</a>\u001b[0m loss \u001b[39m=\u001b[39m \u001b[39m-\u001b[39m(sample_weight \u001b[39m*\u001b[39;49m Y \u001b[39m*\u001b[39;49m p)\u001b[39m.\u001b[39;49msum()\n\u001b[0;32m    <a href='file:///c%3A/Users/micha/anaconda3/envs/comp30830/lib/site-packages/sklearn/linear_model/_logistic.py?line=300'>301</a>\u001b[0m loss \u001b[39m+\u001b[39m\u001b[39m=\u001b[39m \u001b[39m0.5\u001b[39m \u001b[39m*\u001b[39m alpha \u001b[39m*\u001b[39m squared_norm(w)\n\u001b[0;32m    <a href='file:///c%3A/Users/micha/anaconda3/envs/comp30830/lib/site-packages/sklearn/linear_model/_logistic.py?line=301'>302</a>\u001b[0m p \u001b[39m=\u001b[39m np\u001b[39m.\u001b[39mexp(p, p)\n",
      "File \u001b[1;32m~\\anaconda3\\envs\\comp30830\\lib\\site-packages\\numpy\\core\\_methods.py:46\u001b[0m, in \u001b[0;36m_sum\u001b[1;34m(a, axis, dtype, out, keepdims, initial, where)\u001b[0m\n\u001b[0;32m     <a href='file:///c%3A/Users/micha/anaconda3/envs/comp30830/lib/site-packages/numpy/core/_methods.py?line=41'>42</a>\u001b[0m \u001b[39mdef\u001b[39;00m \u001b[39m_amin\u001b[39m(a, axis\u001b[39m=\u001b[39m\u001b[39mNone\u001b[39;00m, out\u001b[39m=\u001b[39m\u001b[39mNone\u001b[39;00m, keepdims\u001b[39m=\u001b[39m\u001b[39mFalse\u001b[39;00m,\n\u001b[0;32m     <a href='file:///c%3A/Users/micha/anaconda3/envs/comp30830/lib/site-packages/numpy/core/_methods.py?line=42'>43</a>\u001b[0m           initial\u001b[39m=\u001b[39m_NoValue, where\u001b[39m=\u001b[39m\u001b[39mTrue\u001b[39;00m):\n\u001b[0;32m     <a href='file:///c%3A/Users/micha/anaconda3/envs/comp30830/lib/site-packages/numpy/core/_methods.py?line=43'>44</a>\u001b[0m     \u001b[39mreturn\u001b[39;00m umr_minimum(a, axis, \u001b[39mNone\u001b[39;00m, out, keepdims, initial, where)\n\u001b[1;32m---> <a href='file:///c%3A/Users/micha/anaconda3/envs/comp30830/lib/site-packages/numpy/core/_methods.py?line=45'>46</a>\u001b[0m \u001b[39mdef\u001b[39;00m \u001b[39m_sum\u001b[39m(a, axis\u001b[39m=\u001b[39m\u001b[39mNone\u001b[39;00m, dtype\u001b[39m=\u001b[39m\u001b[39mNone\u001b[39;00m, out\u001b[39m=\u001b[39m\u001b[39mNone\u001b[39;00m, keepdims\u001b[39m=\u001b[39m\u001b[39mFalse\u001b[39;00m,\n\u001b[0;32m     <a href='file:///c%3A/Users/micha/anaconda3/envs/comp30830/lib/site-packages/numpy/core/_methods.py?line=46'>47</a>\u001b[0m          initial\u001b[39m=\u001b[39m_NoValue, where\u001b[39m=\u001b[39m\u001b[39mTrue\u001b[39;00m):\n\u001b[0;32m     <a href='file:///c%3A/Users/micha/anaconda3/envs/comp30830/lib/site-packages/numpy/core/_methods.py?line=47'>48</a>\u001b[0m     \u001b[39mreturn\u001b[39;00m umr_sum(a, axis, dtype, out, keepdims, initial, where)\n\u001b[0;32m     <a href='file:///c%3A/Users/micha/anaconda3/envs/comp30830/lib/site-packages/numpy/core/_methods.py?line=49'>50</a>\u001b[0m \u001b[39mdef\u001b[39;00m \u001b[39m_prod\u001b[39m(a, axis\u001b[39m=\u001b[39m\u001b[39mNone\u001b[39;00m, dtype\u001b[39m=\u001b[39m\u001b[39mNone\u001b[39;00m, out\u001b[39m=\u001b[39m\u001b[39mNone\u001b[39;00m, keepdims\u001b[39m=\u001b[39m\u001b[39mFalse\u001b[39;00m,\n\u001b[0;32m     <a href='file:///c%3A/Users/micha/anaconda3/envs/comp30830/lib/site-packages/numpy/core/_methods.py?line=50'>51</a>\u001b[0m           initial\u001b[39m=\u001b[39m_NoValue, where\u001b[39m=\u001b[39m\u001b[39mTrue\u001b[39;00m):\n",
      "\u001b[1;31mKeyboardInterrupt\u001b[0m: "
     ]
    }
   ],
   "source": [
    "model={}\n",
    "\n",
    "for station in station_numbers:\n",
    "    station_df = df[df[\"number\"] == station]\n",
    "    X = station_df[[\"main\", \"hour\", \"day_of_week\", \"temperature\"]]\n",
    "    y = station_df[\"available_bikes\"]\n",
    "    # dummy_fields = [\"main\", \"hour\", \"day_of_week\"]\n",
    "    # for each in dummy_fields:\n",
    "    #     dummies = pd.get_dummies(X[each], prefix=each, drop_first =False)\n",
    "    #     X = pd.concat([X, dummies], axis=1)\n",
    "    # X = X.drop(dummy_fields, axis=1)\n",
    "    X_train, X_test, y_train, y_test = train_test_split(X,y)\n",
    "    model[station] = LogisticRegression( solver='lbfgs', max_iter=1500)\n",
    "    model[station].fit(X_train, y_train)\n",
    "    print(station)\n",
    "\n",
    "print(model)"
   ]
  },
  {
   "cell_type": "code",
   "execution_count": 18,
   "id": "8ce310f0",
   "metadata": {},
   "outputs": [
    {
     "name": "stdout",
     "output_type": "stream",
     "text": [
      "{86: LogisticRegression(max_iter=1500), 55: LogisticRegression(max_iter=1500), 80: LogisticRegression(max_iter=1500), 32: LogisticRegression(max_iter=1500)}\n"
     ]
    }
   ],
   "source": [
    "print(model)"
   ]
  },
  {
   "cell_type": "code",
   "execution_count": 19,
   "id": "7fb180b3",
   "metadata": {},
   "outputs": [
    {
     "data": {
      "text/html": [
       "<div>\n",
       "<style scoped>\n",
       "    .dataframe tbody tr th:only-of-type {\n",
       "        vertical-align: middle;\n",
       "    }\n",
       "\n",
       "    .dataframe tbody tr th {\n",
       "        vertical-align: top;\n",
       "    }\n",
       "\n",
       "    .dataframe thead th {\n",
       "        text-align: right;\n",
       "    }\n",
       "</style>\n",
       "<table border=\"1\" class=\"dataframe\">\n",
       "  <thead>\n",
       "    <tr style=\"text-align: right;\">\n",
       "      <th></th>\n",
       "      <th>temperature</th>\n",
       "      <th>main_Clear</th>\n",
       "      <th>main_Clouds</th>\n",
       "      <th>main_Drizzle</th>\n",
       "      <th>main_Mist</th>\n",
       "      <th>main_Rain</th>\n",
       "      <th>main_Snow</th>\n",
       "      <th>hour_0</th>\n",
       "      <th>hour_1</th>\n",
       "      <th>hour_2</th>\n",
       "      <th>...</th>\n",
       "      <th>hour_21</th>\n",
       "      <th>hour_22</th>\n",
       "      <th>hour_23</th>\n",
       "      <th>day_of_week_Friday</th>\n",
       "      <th>day_of_week_Monday</th>\n",
       "      <th>day_of_week_Saturday</th>\n",
       "      <th>day_of_week_Sunday</th>\n",
       "      <th>day_of_week_Thursday</th>\n",
       "      <th>day_of_week_Tuesday</th>\n",
       "      <th>day_of_week_Wednesday</th>\n",
       "    </tr>\n",
       "  </thead>\n",
       "  <tbody>\n",
       "    <tr>\n",
       "      <th>3</th>\n",
       "      <td>6.85</td>\n",
       "      <td>0</td>\n",
       "      <td>1</td>\n",
       "      <td>0</td>\n",
       "      <td>0</td>\n",
       "      <td>0</td>\n",
       "      <td>0</td>\n",
       "      <td>0</td>\n",
       "      <td>0</td>\n",
       "      <td>0</td>\n",
       "      <td>...</td>\n",
       "      <td>0</td>\n",
       "      <td>0</td>\n",
       "      <td>0</td>\n",
       "      <td>0</td>\n",
       "      <td>0</td>\n",
       "      <td>0</td>\n",
       "      <td>0</td>\n",
       "      <td>0</td>\n",
       "      <td>1</td>\n",
       "      <td>0</td>\n",
       "    </tr>\n",
       "    <tr>\n",
       "      <th>155</th>\n",
       "      <td>6.85</td>\n",
       "      <td>0</td>\n",
       "      <td>1</td>\n",
       "      <td>0</td>\n",
       "      <td>0</td>\n",
       "      <td>0</td>\n",
       "      <td>0</td>\n",
       "      <td>0</td>\n",
       "      <td>0</td>\n",
       "      <td>0</td>\n",
       "      <td>...</td>\n",
       "      <td>0</td>\n",
       "      <td>0</td>\n",
       "      <td>0</td>\n",
       "      <td>0</td>\n",
       "      <td>0</td>\n",
       "      <td>0</td>\n",
       "      <td>0</td>\n",
       "      <td>0</td>\n",
       "      <td>1</td>\n",
       "      <td>0</td>\n",
       "    </tr>\n",
       "    <tr>\n",
       "      <th>204</th>\n",
       "      <td>6.85</td>\n",
       "      <td>0</td>\n",
       "      <td>1</td>\n",
       "      <td>0</td>\n",
       "      <td>0</td>\n",
       "      <td>0</td>\n",
       "      <td>0</td>\n",
       "      <td>0</td>\n",
       "      <td>0</td>\n",
       "      <td>0</td>\n",
       "      <td>...</td>\n",
       "      <td>0</td>\n",
       "      <td>0</td>\n",
       "      <td>0</td>\n",
       "      <td>0</td>\n",
       "      <td>0</td>\n",
       "      <td>0</td>\n",
       "      <td>0</td>\n",
       "      <td>0</td>\n",
       "      <td>1</td>\n",
       "      <td>0</td>\n",
       "    </tr>\n",
       "    <tr>\n",
       "      <th>232</th>\n",
       "      <td>6.85</td>\n",
       "      <td>0</td>\n",
       "      <td>1</td>\n",
       "      <td>0</td>\n",
       "      <td>0</td>\n",
       "      <td>0</td>\n",
       "      <td>0</td>\n",
       "      <td>0</td>\n",
       "      <td>0</td>\n",
       "      <td>0</td>\n",
       "      <td>...</td>\n",
       "      <td>0</td>\n",
       "      <td>0</td>\n",
       "      <td>0</td>\n",
       "      <td>0</td>\n",
       "      <td>0</td>\n",
       "      <td>0</td>\n",
       "      <td>0</td>\n",
       "      <td>0</td>\n",
       "      <td>1</td>\n",
       "      <td>0</td>\n",
       "    </tr>\n",
       "    <tr>\n",
       "      <th>318</th>\n",
       "      <td>6.85</td>\n",
       "      <td>0</td>\n",
       "      <td>1</td>\n",
       "      <td>0</td>\n",
       "      <td>0</td>\n",
       "      <td>0</td>\n",
       "      <td>0</td>\n",
       "      <td>0</td>\n",
       "      <td>0</td>\n",
       "      <td>0</td>\n",
       "      <td>...</td>\n",
       "      <td>0</td>\n",
       "      <td>0</td>\n",
       "      <td>0</td>\n",
       "      <td>0</td>\n",
       "      <td>0</td>\n",
       "      <td>0</td>\n",
       "      <td>0</td>\n",
       "      <td>0</td>\n",
       "      <td>1</td>\n",
       "      <td>0</td>\n",
       "    </tr>\n",
       "  </tbody>\n",
       "</table>\n",
       "<p>5 rows × 38 columns</p>\n",
       "</div>"
      ],
      "text/plain": [
       "     temperature  main_Clear  main_Clouds  main_Drizzle  main_Mist  main_Rain  \\\n",
       "3           6.85           0            1             0          0          0   \n",
       "155         6.85           0            1             0          0          0   \n",
       "204         6.85           0            1             0          0          0   \n",
       "232         6.85           0            1             0          0          0   \n",
       "318         6.85           0            1             0          0          0   \n",
       "\n",
       "     main_Snow  hour_0  hour_1  hour_2  ...  hour_21  hour_22  hour_23  \\\n",
       "3            0       0       0       0  ...        0        0        0   \n",
       "155          0       0       0       0  ...        0        0        0   \n",
       "204          0       0       0       0  ...        0        0        0   \n",
       "232          0       0       0       0  ...        0        0        0   \n",
       "318          0       0       0       0  ...        0        0        0   \n",
       "\n",
       "     day_of_week_Friday  day_of_week_Monday  day_of_week_Saturday  \\\n",
       "3                     0                   0                     0   \n",
       "155                   0                   0                     0   \n",
       "204                   0                   0                     0   \n",
       "232                   0                   0                     0   \n",
       "318                   0                   0                     0   \n",
       "\n",
       "     day_of_week_Sunday  day_of_week_Thursday  day_of_week_Tuesday  \\\n",
       "3                     0                     0                    1   \n",
       "155                   0                     0                    1   \n",
       "204                   0                     0                    1   \n",
       "232                   0                     0                    1   \n",
       "318                   0                     0                    1   \n",
       "\n",
       "     day_of_week_Wednesday  \n",
       "3                        0  \n",
       "155                      0  \n",
       "204                      0  \n",
       "232                      0  \n",
       "318                      0  \n",
       "\n",
       "[5 rows x 38 columns]"
      ]
     },
     "execution_count": 19,
     "metadata": {},
     "output_type": "execute_result"
    }
   ],
   "source": [
    "X.head()"
   ]
  },
  {
   "cell_type": "code",
   "execution_count": 20,
   "id": "d986cf83",
   "metadata": {},
   "outputs": [
    {
     "data": {
      "text/html": [
       "<div>\n",
       "<style scoped>\n",
       "    .dataframe tbody tr th:only-of-type {\n",
       "        vertical-align: middle;\n",
       "    }\n",
       "\n",
       "    .dataframe tbody tr th {\n",
       "        vertical-align: top;\n",
       "    }\n",
       "\n",
       "    .dataframe thead th {\n",
       "        text-align: right;\n",
       "    }\n",
       "</style>\n",
       "<table border=\"1\" class=\"dataframe\">\n",
       "  <thead>\n",
       "    <tr style=\"text-align: right;\">\n",
       "      <th></th>\n",
       "      <th>number</th>\n",
       "      <th>available_bikes</th>\n",
       "      <th>available_stands</th>\n",
       "      <th>dt</th>\n",
       "      <th>temperature</th>\n",
       "      <th>main</th>\n",
       "      <th>day_of_week</th>\n",
       "      <th>hour</th>\n",
       "    </tr>\n",
       "  </thead>\n",
       "  <tbody>\n",
       "    <tr>\n",
       "      <th>0</th>\n",
       "      <td>86</td>\n",
       "      <td>0</td>\n",
       "      <td>38</td>\n",
       "      <td>2022-02-15 10:38:18</td>\n",
       "      <td>6.85</td>\n",
       "      <td>Clouds</td>\n",
       "      <td>Tuesday</td>\n",
       "      <td>10</td>\n",
       "    </tr>\n",
       "    <tr>\n",
       "      <th>1</th>\n",
       "      <td>55</td>\n",
       "      <td>14</td>\n",
       "      <td>21</td>\n",
       "      <td>2022-02-15 10:38:21</td>\n",
       "      <td>6.85</td>\n",
       "      <td>Clouds</td>\n",
       "      <td>Tuesday</td>\n",
       "      <td>10</td>\n",
       "    </tr>\n",
       "    <tr>\n",
       "      <th>2</th>\n",
       "      <td>80</td>\n",
       "      <td>22</td>\n",
       "      <td>18</td>\n",
       "      <td>2022-02-15 10:38:35</td>\n",
       "      <td>6.85</td>\n",
       "      <td>Clouds</td>\n",
       "      <td>Tuesday</td>\n",
       "      <td>10</td>\n",
       "    </tr>\n",
       "    <tr>\n",
       "      <th>3</th>\n",
       "      <td>32</td>\n",
       "      <td>15</td>\n",
       "      <td>15</td>\n",
       "      <td>2022-02-15 10:38:42</td>\n",
       "      <td>6.85</td>\n",
       "      <td>Clouds</td>\n",
       "      <td>Tuesday</td>\n",
       "      <td>10</td>\n",
       "    </tr>\n",
       "    <tr>\n",
       "      <th>4</th>\n",
       "      <td>99</td>\n",
       "      <td>15</td>\n",
       "      <td>15</td>\n",
       "      <td>2022-02-15 10:38:55</td>\n",
       "      <td>6.85</td>\n",
       "      <td>Clouds</td>\n",
       "      <td>Tuesday</td>\n",
       "      <td>10</td>\n",
       "    </tr>\n",
       "  </tbody>\n",
       "</table>\n",
       "</div>"
      ],
      "text/plain": [
       "   number  available_bikes  available_stands                  dt  temperature  \\\n",
       "0      86                0                38 2022-02-15 10:38:18         6.85   \n",
       "1      55               14                21 2022-02-15 10:38:21         6.85   \n",
       "2      80               22                18 2022-02-15 10:38:35         6.85   \n",
       "3      32               15                15 2022-02-15 10:38:42         6.85   \n",
       "4      99               15                15 2022-02-15 10:38:55         6.85   \n",
       "\n",
       "     main day_of_week hour  \n",
       "0  Clouds     Tuesday   10  \n",
       "1  Clouds     Tuesday   10  \n",
       "2  Clouds     Tuesday   10  \n",
       "3  Clouds     Tuesday   10  \n",
       "4  Clouds     Tuesday   10  "
      ]
     },
     "execution_count": 20,
     "metadata": {},
     "output_type": "execute_result"
    }
   ],
   "source": [
    "df.head()"
   ]
  }
 ],
 "metadata": {
  "kernelspec": {
   "display_name": "Python 3 (ipykernel)",
   "language": "python",
   "name": "python3"
  },
  "language_info": {
   "codemirror_mode": {
    "name": "ipython",
    "version": 3
   },
   "file_extension": ".py",
   "mimetype": "text/x-python",
   "name": "python",
   "nbconvert_exporter": "python",
   "pygments_lexer": "ipython3",
   "version": "3.10.0"
  }
 },
 "nbformat": 4,
 "nbformat_minor": 5
}

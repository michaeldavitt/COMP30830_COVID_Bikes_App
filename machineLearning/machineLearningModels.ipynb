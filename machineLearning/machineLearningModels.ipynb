{
 "cells": [
  {
   "cell_type": "code",
   "execution_count": 41,
   "id": "0d14f79e",
   "metadata": {},
   "outputs": [],
   "source": [
    "from sqlalchemy import create_engine\n",
    "import pandas as pd\n",
    "import numpy as np\n",
    "from sklearn.linear_model import LogisticRegression\n",
    "from sklearn.model_selection import train_test_split"
   ]
  },
  {
   "cell_type": "code",
   "execution_count": 2,
   "id": "cb65e35a",
   "metadata": {},
   "outputs": [],
   "source": [
    "def connect_to_database():\n",
    "    \"\"\"Function for connecting to the SQL database\"\"\"\n",
    "\n",
    "    # Create variables to store cretentials\n",
    "    USER = \"admin\"\n",
    "    DB = \"dbikes\"\n",
    "    PORT = \"3306\"\n",
    "    URL = \"database-1.ctesjcult8dm.eu-west-1.rds.amazonaws.com\"\n",
    "\n",
    "    # Read in password from text file\n",
    "    with open('../mysql_password.txt') as f:\n",
    "        PASSWORD = ''.join(f.readlines())\n",
    "        PASSWORD = str(PASSWORD).split()[0]\n",
    "\n",
    "    # Create engine using credentials\n",
    "    engine = create_engine(\n",
    "        \"mysql+mysqlconnector://{}:{}@{}:{}/{}\".format(USER, PASSWORD, URL, PORT, DB), echo=True)\n",
    "\n",
    "    # Create connection using engine and return connection\n",
    "    conn = engine.connect()\n",
    "    return conn\n"
   ]
  },
  {
   "cell_type": "code",
   "execution_count": 3,
   "id": "4b463feb",
   "metadata": {},
   "outputs": [
    {
     "name": "stdout",
     "output_type": "stream",
     "text": [
      "2022-03-23 14:08:47,233 INFO sqlalchemy.engine.Engine SHOW VARIABLES LIKE 'sql_mode'\n",
      "2022-03-23 14:08:47,235 INFO sqlalchemy.engine.Engine [raw sql] {}\n",
      "2022-03-23 14:08:47,254 INFO sqlalchemy.engine.Engine SHOW VARIABLES LIKE 'lower_case_table_names'\n",
      "2022-03-23 14:08:47,255 INFO sqlalchemy.engine.Engine [generated in 0.00659s] {}\n",
      "2022-03-23 14:08:47,290 INFO sqlalchemy.engine.Engine SELECT DATABASE()\n",
      "2022-03-23 14:08:47,291 INFO sqlalchemy.engine.Engine [raw sql] {}\n"
     ]
    }
   ],
   "source": [
    "engine = connect_to_database()"
   ]
  },
  {
   "cell_type": "code",
   "execution_count": 4,
   "id": "260097e1",
   "metadata": {},
   "outputs": [
    {
     "name": "stdout",
     "output_type": "stream",
     "text": [
      "2022-03-23 14:08:47,453 INFO sqlalchemy.engine.Engine SELECT * FROM dbikes.availability\n",
      "2022-03-23 14:08:47,455 INFO sqlalchemy.engine.Engine [raw sql] {}\n"
     ]
    },
    {
     "data": {
      "text/html": [
       "<div>\n",
       "<style scoped>\n",
       "    .dataframe tbody tr th:only-of-type {\n",
       "        vertical-align: middle;\n",
       "    }\n",
       "\n",
       "    .dataframe tbody tr th {\n",
       "        vertical-align: top;\n",
       "    }\n",
       "\n",
       "    .dataframe thead th {\n",
       "        text-align: right;\n",
       "    }\n",
       "</style>\n",
       "<table border=\"1\" class=\"dataframe\">\n",
       "  <thead>\n",
       "    <tr style=\"text-align: right;\">\n",
       "      <th></th>\n",
       "      <th>number</th>\n",
       "      <th>available_bikes</th>\n",
       "      <th>available_stands</th>\n",
       "      <th>last_update</th>\n",
       "    </tr>\n",
       "  </thead>\n",
       "  <tbody>\n",
       "    <tr>\n",
       "      <th>0</th>\n",
       "      <td>42</td>\n",
       "      <td>17</td>\n",
       "      <td>13</td>\n",
       "      <td>1644921618000</td>\n",
       "    </tr>\n",
       "    <tr>\n",
       "      <th>1</th>\n",
       "      <td>30</td>\n",
       "      <td>15</td>\n",
       "      <td>5</td>\n",
       "      <td>1644922002000</td>\n",
       "    </tr>\n",
       "    <tr>\n",
       "      <th>2</th>\n",
       "      <td>54</td>\n",
       "      <td>16</td>\n",
       "      <td>17</td>\n",
       "      <td>1644922012000</td>\n",
       "    </tr>\n",
       "    <tr>\n",
       "      <th>3</th>\n",
       "      <td>108</td>\n",
       "      <td>10</td>\n",
       "      <td>25</td>\n",
       "      <td>1644921926000</td>\n",
       "    </tr>\n",
       "    <tr>\n",
       "      <th>4</th>\n",
       "      <td>56</td>\n",
       "      <td>9</td>\n",
       "      <td>31</td>\n",
       "      <td>1644922071000</td>\n",
       "    </tr>\n",
       "  </tbody>\n",
       "</table>\n",
       "</div>"
      ],
      "text/plain": [
       "   number  available_bikes  available_stands    last_update\n",
       "0      42               17                13  1644921618000\n",
       "1      30               15                 5  1644922002000\n",
       "2      54               16                17  1644922012000\n",
       "3     108               10                25  1644921926000\n",
       "4      56                9                31  1644922071000"
      ]
     },
     "execution_count": 4,
     "metadata": {},
     "output_type": "execute_result"
    }
   ],
   "source": [
    "availability_df = pd.read_sql_query(\"SELECT * FROM dbikes.availability\", engine)\n",
    "availability_df.head()"
   ]
  },
  {
   "cell_type": "code",
   "execution_count": 5,
   "id": "19e3e205",
   "metadata": {},
   "outputs": [
    {
     "data": {
      "text/plain": [
       "(2827330, 4)"
      ]
     },
     "execution_count": 5,
     "metadata": {},
     "output_type": "execute_result"
    }
   ],
   "source": [
    "availability_df.shape"
   ]
  },
  {
   "cell_type": "code",
   "execution_count": 6,
   "id": "92062119",
   "metadata": {},
   "outputs": [],
   "source": [
    "# Remove duplicates\n",
    "availability_df.drop_duplicates(inplace=True)"
   ]
  },
  {
   "cell_type": "code",
   "execution_count": 7,
   "id": "10b057b2",
   "metadata": {},
   "outputs": [
    {
     "name": "stdout",
     "output_type": "stream",
     "text": [
      "(718191, 4)\n"
     ]
    }
   ],
   "source": [
    "print(availability_df.shape)\n",
    "# availability_df.duplicated().sum()"
   ]
  },
  {
   "cell_type": "code",
   "execution_count": 21,
   "id": "d2485768",
   "metadata": {},
   "outputs": [
    {
     "name": "stdout",
     "output_type": "stream",
     "text": [
      "2022-03-23 14:10:56,343 INFO sqlalchemy.engine.Engine SELECT dt, temperature, main FROM dbikes.real_time_weather\n",
      "2022-03-23 14:10:56,343 INFO sqlalchemy.engine.Engine [raw sql] {}\n"
     ]
    },
    {
     "data": {
      "text/html": [
       "<div>\n",
       "<style scoped>\n",
       "    .dataframe tbody tr th:only-of-type {\n",
       "        vertical-align: middle;\n",
       "    }\n",
       "\n",
       "    .dataframe tbody tr th {\n",
       "        vertical-align: top;\n",
       "    }\n",
       "\n",
       "    .dataframe thead th {\n",
       "        text-align: right;\n",
       "    }\n",
       "</style>\n",
       "<table border=\"1\" class=\"dataframe\">\n",
       "  <thead>\n",
       "    <tr style=\"text-align: right;\">\n",
       "      <th></th>\n",
       "      <th>dt</th>\n",
       "      <th>temperature</th>\n",
       "      <th>main</th>\n",
       "    </tr>\n",
       "  </thead>\n",
       "  <tbody>\n",
       "    <tr>\n",
       "      <th>0</th>\n",
       "      <td>1644922267</td>\n",
       "      <td>280</td>\n",
       "      <td>Clouds</td>\n",
       "    </tr>\n",
       "    <tr>\n",
       "      <th>1</th>\n",
       "      <td>1644922316</td>\n",
       "      <td>280</td>\n",
       "      <td>Clouds</td>\n",
       "    </tr>\n",
       "    <tr>\n",
       "      <th>2</th>\n",
       "      <td>1644922617</td>\n",
       "      <td>280</td>\n",
       "      <td>Clouds</td>\n",
       "    </tr>\n",
       "    <tr>\n",
       "      <th>3</th>\n",
       "      <td>1644922917</td>\n",
       "      <td>280</td>\n",
       "      <td>Clouds</td>\n",
       "    </tr>\n",
       "    <tr>\n",
       "      <th>4</th>\n",
       "      <td>1644923217</td>\n",
       "      <td>280</td>\n",
       "      <td>Clouds</td>\n",
       "    </tr>\n",
       "  </tbody>\n",
       "</table>\n",
       "</div>"
      ],
      "text/plain": [
       "           dt  temperature    main\n",
       "0  1644922267          280  Clouds\n",
       "1  1644922316          280  Clouds\n",
       "2  1644922617          280  Clouds\n",
       "3  1644922917          280  Clouds\n",
       "4  1644923217          280  Clouds"
      ]
     },
     "execution_count": 21,
     "metadata": {},
     "output_type": "execute_result"
    }
   ],
   "source": [
    "weather_df = pd.read_sql_query(\"SELECT dt, temperature, main FROM dbikes.real_time_weather\", engine)\n",
    "weather_df.head()"
   ]
  },
  {
   "cell_type": "code",
   "execution_count": 9,
   "id": "51e309b7",
   "metadata": {},
   "outputs": [],
   "source": [
    "#Drop duplicates\n",
    "weather_df.drop_duplicates(inplace=True)"
   ]
  },
  {
   "cell_type": "code",
   "execution_count": 10,
   "id": "5f702b4f",
   "metadata": {},
   "outputs": [
    {
     "name": "stdout",
     "output_type": "stream",
     "text": [
      "(10398, 3)\n"
     ]
    }
   ],
   "source": [
    "print(weather_df.shape)"
   ]
  },
  {
   "cell_type": "code",
   "execution_count": 11,
   "id": "3027bf73",
   "metadata": {},
   "outputs": [
    {
     "data": {
      "text/plain": [
       "Index(['number', 'available_bikes', 'available_stands', 'dt'], dtype='object')"
      ]
     },
     "execution_count": 11,
     "metadata": {},
     "output_type": "execute_result"
    }
   ],
   "source": [
    "#Changes the name of the column\n",
    "availability_df.rename(columns={\"last_update\": \"dt\"}, inplace=True)\n",
    "availability_df.columns"
   ]
  },
  {
   "cell_type": "code",
   "execution_count": 12,
   "id": "c92508ee",
   "metadata": {},
   "outputs": [
    {
     "data": {
      "text/plain": [
       "number              int64\n",
       "available_bikes     int64\n",
       "available_stands    int64\n",
       "dt                  int64\n",
       "dtype: object"
      ]
     },
     "execution_count": 12,
     "metadata": {},
     "output_type": "execute_result"
    }
   ],
   "source": [
    "availability_df[\"dt\"] = availability_df[\"dt\"].astype(np.int64)\n",
    "availability_df.dtypes"
   ]
  },
  {
   "cell_type": "code",
   "execution_count": 13,
   "id": "96340d1b",
   "metadata": {},
   "outputs": [
    {
     "data": {
      "text/plain": [
       "dt              int64\n",
       "temperature     int64\n",
       "main           object\n",
       "dtype: object"
      ]
     },
     "execution_count": 13,
     "metadata": {},
     "output_type": "execute_result"
    }
   ],
   "source": [
    "weather_df[\"dt\"]= weather_df[\"dt\"].astype(np.int64)\n",
    "weather_df.dtypes"
   ]
  },
  {
   "cell_type": "code",
   "execution_count": 14,
   "id": "6784b153",
   "metadata": {},
   "outputs": [],
   "source": [
    "availability_df.sort_values(by=\"dt\", inplace=True)\n",
    "weather_df.sort_values(by=\"dt\", inplace=True)"
   ]
  },
  {
   "cell_type": "code",
   "execution_count": 15,
   "id": "c600cc28",
   "metadata": {},
   "outputs": [
    {
     "data": {
      "text/html": [
       "<div>\n",
       "<style scoped>\n",
       "    .dataframe tbody tr th:only-of-type {\n",
       "        vertical-align: middle;\n",
       "    }\n",
       "\n",
       "    .dataframe tbody tr th {\n",
       "        vertical-align: top;\n",
       "    }\n",
       "\n",
       "    .dataframe thead th {\n",
       "        text-align: right;\n",
       "    }\n",
       "</style>\n",
       "<table border=\"1\" class=\"dataframe\">\n",
       "  <thead>\n",
       "    <tr style=\"text-align: right;\">\n",
       "      <th></th>\n",
       "      <th>number</th>\n",
       "      <th>available_bikes</th>\n",
       "      <th>available_stands</th>\n",
       "      <th>dt</th>\n",
       "    </tr>\n",
       "  </thead>\n",
       "  <tbody>\n",
       "    <tr>\n",
       "      <th>86</th>\n",
       "      <td>86</td>\n",
       "      <td>0</td>\n",
       "      <td>38</td>\n",
       "      <td>1644921498</td>\n",
       "    </tr>\n",
       "    <tr>\n",
       "      <th>34</th>\n",
       "      <td>55</td>\n",
       "      <td>14</td>\n",
       "      <td>21</td>\n",
       "      <td>1644921501</td>\n",
       "    </tr>\n",
       "    <tr>\n",
       "      <th>98</th>\n",
       "      <td>80</td>\n",
       "      <td>22</td>\n",
       "      <td>18</td>\n",
       "      <td>1644921515</td>\n",
       "    </tr>\n",
       "    <tr>\n",
       "      <th>7</th>\n",
       "      <td>32</td>\n",
       "      <td>15</td>\n",
       "      <td>15</td>\n",
       "      <td>1644921522</td>\n",
       "    </tr>\n",
       "    <tr>\n",
       "      <th>30</th>\n",
       "      <td>99</td>\n",
       "      <td>15</td>\n",
       "      <td>15</td>\n",
       "      <td>1644921535</td>\n",
       "    </tr>\n",
       "  </tbody>\n",
       "</table>\n",
       "</div>"
      ],
      "text/plain": [
       "    number  available_bikes  available_stands          dt\n",
       "86      86                0                38  1644921498\n",
       "34      55               14                21  1644921501\n",
       "98      80               22                18  1644921515\n",
       "7       32               15                15  1644921522\n",
       "30      99               15                15  1644921535"
      ]
     },
     "execution_count": 15,
     "metadata": {},
     "output_type": "execute_result"
    }
   ],
   "source": [
    "#Converts seconds to miliseconds\n",
    "availability_df[\"dt\"] = availability_df[\"dt\"] // 1000\n",
    "availability_df.head()"
   ]
  },
  {
   "cell_type": "code",
   "execution_count": 16,
   "id": "e2f8a866",
   "metadata": {},
   "outputs": [
    {
     "data": {
      "text/html": [
       "<div>\n",
       "<style scoped>\n",
       "    .dataframe tbody tr th:only-of-type {\n",
       "        vertical-align: middle;\n",
       "    }\n",
       "\n",
       "    .dataframe tbody tr th {\n",
       "        vertical-align: top;\n",
       "    }\n",
       "\n",
       "    .dataframe thead th {\n",
       "        text-align: right;\n",
       "    }\n",
       "</style>\n",
       "<table border=\"1\" class=\"dataframe\">\n",
       "  <thead>\n",
       "    <tr style=\"text-align: right;\">\n",
       "      <th></th>\n",
       "      <th>number</th>\n",
       "      <th>available_bikes</th>\n",
       "      <th>available_stands</th>\n",
       "      <th>dt</th>\n",
       "      <th>temperature</th>\n",
       "      <th>main</th>\n",
       "    </tr>\n",
       "  </thead>\n",
       "  <tbody>\n",
       "    <tr>\n",
       "      <th>0</th>\n",
       "      <td>86</td>\n",
       "      <td>0</td>\n",
       "      <td>38</td>\n",
       "      <td>1644921498</td>\n",
       "      <td>280</td>\n",
       "      <td>Clouds</td>\n",
       "    </tr>\n",
       "    <tr>\n",
       "      <th>1</th>\n",
       "      <td>55</td>\n",
       "      <td>14</td>\n",
       "      <td>21</td>\n",
       "      <td>1644921501</td>\n",
       "      <td>280</td>\n",
       "      <td>Clouds</td>\n",
       "    </tr>\n",
       "    <tr>\n",
       "      <th>2</th>\n",
       "      <td>80</td>\n",
       "      <td>22</td>\n",
       "      <td>18</td>\n",
       "      <td>1644921515</td>\n",
       "      <td>280</td>\n",
       "      <td>Clouds</td>\n",
       "    </tr>\n",
       "    <tr>\n",
       "      <th>3</th>\n",
       "      <td>32</td>\n",
       "      <td>15</td>\n",
       "      <td>15</td>\n",
       "      <td>1644921522</td>\n",
       "      <td>280</td>\n",
       "      <td>Clouds</td>\n",
       "    </tr>\n",
       "    <tr>\n",
       "      <th>4</th>\n",
       "      <td>99</td>\n",
       "      <td>15</td>\n",
       "      <td>15</td>\n",
       "      <td>1644921535</td>\n",
       "      <td>280</td>\n",
       "      <td>Clouds</td>\n",
       "    </tr>\n",
       "    <tr>\n",
       "      <th>5</th>\n",
       "      <td>115</td>\n",
       "      <td>0</td>\n",
       "      <td>30</td>\n",
       "      <td>1644921543</td>\n",
       "      <td>280</td>\n",
       "      <td>Clouds</td>\n",
       "    </tr>\n",
       "    <tr>\n",
       "      <th>6</th>\n",
       "      <td>9</td>\n",
       "      <td>24</td>\n",
       "      <td>0</td>\n",
       "      <td>1644921545</td>\n",
       "      <td>280</td>\n",
       "      <td>Clouds</td>\n",
       "    </tr>\n",
       "    <tr>\n",
       "      <th>7</th>\n",
       "      <td>18</td>\n",
       "      <td>18</td>\n",
       "      <td>12</td>\n",
       "      <td>1644921589</td>\n",
       "      <td>280</td>\n",
       "      <td>Clouds</td>\n",
       "    </tr>\n",
       "    <tr>\n",
       "      <th>8</th>\n",
       "      <td>39</td>\n",
       "      <td>8</td>\n",
       "      <td>12</td>\n",
       "      <td>1644921597</td>\n",
       "      <td>280</td>\n",
       "      <td>Clouds</td>\n",
       "    </tr>\n",
       "    <tr>\n",
       "      <th>9</th>\n",
       "      <td>13</td>\n",
       "      <td>15</td>\n",
       "      <td>15</td>\n",
       "      <td>1644921598</td>\n",
       "      <td>280</td>\n",
       "      <td>Clouds</td>\n",
       "    </tr>\n",
       "    <tr>\n",
       "      <th>10</th>\n",
       "      <td>62</td>\n",
       "      <td>19</td>\n",
       "      <td>21</td>\n",
       "      <td>1644921599</td>\n",
       "      <td>280</td>\n",
       "      <td>Clouds</td>\n",
       "    </tr>\n",
       "    <tr>\n",
       "      <th>11</th>\n",
       "      <td>117</td>\n",
       "      <td>8</td>\n",
       "      <td>32</td>\n",
       "      <td>1644921605</td>\n",
       "      <td>280</td>\n",
       "      <td>Clouds</td>\n",
       "    </tr>\n",
       "    <tr>\n",
       "      <th>12</th>\n",
       "      <td>12</td>\n",
       "      <td>0</td>\n",
       "      <td>20</td>\n",
       "      <td>1644921618</td>\n",
       "      <td>280</td>\n",
       "      <td>Clouds</td>\n",
       "    </tr>\n",
       "    <tr>\n",
       "      <th>13</th>\n",
       "      <td>42</td>\n",
       "      <td>17</td>\n",
       "      <td>13</td>\n",
       "      <td>1644921618</td>\n",
       "      <td>280</td>\n",
       "      <td>Clouds</td>\n",
       "    </tr>\n",
       "    <tr>\n",
       "      <th>14</th>\n",
       "      <td>82</td>\n",
       "      <td>6</td>\n",
       "      <td>16</td>\n",
       "      <td>1644921620</td>\n",
       "      <td>280</td>\n",
       "      <td>Clouds</td>\n",
       "    </tr>\n",
       "    <tr>\n",
       "      <th>15</th>\n",
       "      <td>107</td>\n",
       "      <td>0</td>\n",
       "      <td>40</td>\n",
       "      <td>1644921623</td>\n",
       "      <td>280</td>\n",
       "      <td>Clouds</td>\n",
       "    </tr>\n",
       "    <tr>\n",
       "      <th>16</th>\n",
       "      <td>28</td>\n",
       "      <td>10</td>\n",
       "      <td>20</td>\n",
       "      <td>1644921624</td>\n",
       "      <td>280</td>\n",
       "      <td>Clouds</td>\n",
       "    </tr>\n",
       "    <tr>\n",
       "      <th>17</th>\n",
       "      <td>65</td>\n",
       "      <td>3</td>\n",
       "      <td>37</td>\n",
       "      <td>1644921633</td>\n",
       "      <td>280</td>\n",
       "      <td>Clouds</td>\n",
       "    </tr>\n",
       "    <tr>\n",
       "      <th>18</th>\n",
       "      <td>40</td>\n",
       "      <td>15</td>\n",
       "      <td>6</td>\n",
       "      <td>1644921636</td>\n",
       "      <td>280</td>\n",
       "      <td>Clouds</td>\n",
       "    </tr>\n",
       "    <tr>\n",
       "      <th>19</th>\n",
       "      <td>95</td>\n",
       "      <td>13</td>\n",
       "      <td>27</td>\n",
       "      <td>1644921644</td>\n",
       "      <td>280</td>\n",
       "      <td>Clouds</td>\n",
       "    </tr>\n",
       "  </tbody>\n",
       "</table>\n",
       "</div>"
      ],
      "text/plain": [
       "    number  available_bikes  available_stands          dt  temperature    main\n",
       "0       86                0                38  1644921498          280  Clouds\n",
       "1       55               14                21  1644921501          280  Clouds\n",
       "2       80               22                18  1644921515          280  Clouds\n",
       "3       32               15                15  1644921522          280  Clouds\n",
       "4       99               15                15  1644921535          280  Clouds\n",
       "5      115                0                30  1644921543          280  Clouds\n",
       "6        9               24                 0  1644921545          280  Clouds\n",
       "7       18               18                12  1644921589          280  Clouds\n",
       "8       39                8                12  1644921597          280  Clouds\n",
       "9       13               15                15  1644921598          280  Clouds\n",
       "10      62               19                21  1644921599          280  Clouds\n",
       "11     117                8                32  1644921605          280  Clouds\n",
       "12      12                0                20  1644921618          280  Clouds\n",
       "13      42               17                13  1644921618          280  Clouds\n",
       "14      82                6                16  1644921620          280  Clouds\n",
       "15     107                0                40  1644921623          280  Clouds\n",
       "16      28               10                20  1644921624          280  Clouds\n",
       "17      65                3                37  1644921633          280  Clouds\n",
       "18      40               15                 6  1644921636          280  Clouds\n",
       "19      95               13                27  1644921644          280  Clouds"
      ]
     },
     "execution_count": 16,
     "metadata": {},
     "output_type": "execute_result"
    }
   ],
   "source": [
    "df=pd.merge_asof(availability_df, weather_df, on=\"dt\", direction=\"nearest\")\n",
    "df.head(20)"
   ]
  },
  {
   "cell_type": "code",
   "execution_count": 17,
   "id": "0d684bc6",
   "metadata": {},
   "outputs": [
    {
     "data": {
      "text/plain": [
       "(718191, 6)"
      ]
     },
     "execution_count": 17,
     "metadata": {},
     "output_type": "execute_result"
    }
   ],
   "source": [
    "df.shape"
   ]
  },
  {
   "cell_type": "code",
   "execution_count": 18,
   "id": "eb53ff28",
   "metadata": {},
   "outputs": [
    {
     "data": {
      "text/html": [
       "<div>\n",
       "<style scoped>\n",
       "    .dataframe tbody tr th:only-of-type {\n",
       "        vertical-align: middle;\n",
       "    }\n",
       "\n",
       "    .dataframe tbody tr th {\n",
       "        vertical-align: top;\n",
       "    }\n",
       "\n",
       "    .dataframe thead th {\n",
       "        text-align: right;\n",
       "    }\n",
       "</style>\n",
       "<table border=\"1\" class=\"dataframe\">\n",
       "  <thead>\n",
       "    <tr style=\"text-align: right;\">\n",
       "      <th></th>\n",
       "      <th>number</th>\n",
       "      <th>available_bikes</th>\n",
       "      <th>available_stands</th>\n",
       "      <th>dt</th>\n",
       "      <th>temperature</th>\n",
       "      <th>main</th>\n",
       "    </tr>\n",
       "  </thead>\n",
       "  <tbody>\n",
       "    <tr>\n",
       "      <th>0</th>\n",
       "      <td>86</td>\n",
       "      <td>0</td>\n",
       "      <td>38</td>\n",
       "      <td>1644921498</td>\n",
       "      <td>6.85</td>\n",
       "      <td>Clouds</td>\n",
       "    </tr>\n",
       "    <tr>\n",
       "      <th>1</th>\n",
       "      <td>55</td>\n",
       "      <td>14</td>\n",
       "      <td>21</td>\n",
       "      <td>1644921501</td>\n",
       "      <td>6.85</td>\n",
       "      <td>Clouds</td>\n",
       "    </tr>\n",
       "    <tr>\n",
       "      <th>2</th>\n",
       "      <td>80</td>\n",
       "      <td>22</td>\n",
       "      <td>18</td>\n",
       "      <td>1644921515</td>\n",
       "      <td>6.85</td>\n",
       "      <td>Clouds</td>\n",
       "    </tr>\n",
       "    <tr>\n",
       "      <th>3</th>\n",
       "      <td>32</td>\n",
       "      <td>15</td>\n",
       "      <td>15</td>\n",
       "      <td>1644921522</td>\n",
       "      <td>6.85</td>\n",
       "      <td>Clouds</td>\n",
       "    </tr>\n",
       "    <tr>\n",
       "      <th>4</th>\n",
       "      <td>99</td>\n",
       "      <td>15</td>\n",
       "      <td>15</td>\n",
       "      <td>1644921535</td>\n",
       "      <td>6.85</td>\n",
       "      <td>Clouds</td>\n",
       "    </tr>\n",
       "    <tr>\n",
       "      <th>...</th>\n",
       "      <td>...</td>\n",
       "      <td>...</td>\n",
       "      <td>...</td>\n",
       "      <td>...</td>\n",
       "      <td>...</td>\n",
       "      <td>...</td>\n",
       "    </tr>\n",
       "    <tr>\n",
       "      <th>718186</th>\n",
       "      <td>23</td>\n",
       "      <td>29</td>\n",
       "      <td>1</td>\n",
       "      <td>1648044418</td>\n",
       "      <td>15.85</td>\n",
       "      <td>Clear</td>\n",
       "    </tr>\n",
       "    <tr>\n",
       "      <th>718187</th>\n",
       "      <td>47</td>\n",
       "      <td>24</td>\n",
       "      <td>16</td>\n",
       "      <td>1648044423</td>\n",
       "      <td>15.85</td>\n",
       "      <td>Clear</td>\n",
       "    </tr>\n",
       "    <tr>\n",
       "      <th>718188</th>\n",
       "      <td>109</td>\n",
       "      <td>1</td>\n",
       "      <td>28</td>\n",
       "      <td>1648044435</td>\n",
       "      <td>15.85</td>\n",
       "      <td>Clear</td>\n",
       "    </tr>\n",
       "    <tr>\n",
       "      <th>718189</th>\n",
       "      <td>11</td>\n",
       "      <td>16</td>\n",
       "      <td>14</td>\n",
       "      <td>1648044439</td>\n",
       "      <td>15.85</td>\n",
       "      <td>Clear</td>\n",
       "    </tr>\n",
       "    <tr>\n",
       "      <th>718190</th>\n",
       "      <td>52</td>\n",
       "      <td>4</td>\n",
       "      <td>28</td>\n",
       "      <td>1648044441</td>\n",
       "      <td>15.85</td>\n",
       "      <td>Clear</td>\n",
       "    </tr>\n",
       "  </tbody>\n",
       "</table>\n",
       "<p>718191 rows × 6 columns</p>\n",
       "</div>"
      ],
      "text/plain": [
       "        number  available_bikes  available_stands          dt  temperature  \\\n",
       "0           86                0                38  1644921498         6.85   \n",
       "1           55               14                21  1644921501         6.85   \n",
       "2           80               22                18  1644921515         6.85   \n",
       "3           32               15                15  1644921522         6.85   \n",
       "4           99               15                15  1644921535         6.85   \n",
       "...        ...              ...               ...         ...          ...   \n",
       "718186      23               29                 1  1648044418        15.85   \n",
       "718187      47               24                16  1648044423        15.85   \n",
       "718188     109                1                28  1648044435        15.85   \n",
       "718189      11               16                14  1648044439        15.85   \n",
       "718190      52                4                28  1648044441        15.85   \n",
       "\n",
       "          main  \n",
       "0       Clouds  \n",
       "1       Clouds  \n",
       "2       Clouds  \n",
       "3       Clouds  \n",
       "4       Clouds  \n",
       "...        ...  \n",
       "718186   Clear  \n",
       "718187   Clear  \n",
       "718188   Clear  \n",
       "718189   Clear  \n",
       "718190   Clear  \n",
       "\n",
       "[718191 rows x 6 columns]"
      ]
     },
     "execution_count": 18,
     "metadata": {},
     "output_type": "execute_result"
    }
   ],
   "source": [
    "df[\"temperature\"] = df[\"temperature\"] - 273.15\n",
    "df"
   ]
  },
  {
   "cell_type": "code",
   "execution_count": 19,
   "id": "78c73975",
   "metadata": {},
   "outputs": [
    {
     "data": {
      "text/plain": [
       " 7.85     125364\n",
       " 8.85     100116\n",
       " 6.85      89276\n",
       " 5.85      75979\n",
       " 4.85      58264\n",
       " 3.85      49589\n",
       " 9.85      46716\n",
       " 10.85     38398\n",
       " 2.85      36476\n",
       " 1.85      24514\n",
       " 11.85     18931\n",
       " 12.85     16984\n",
       " 0.85      15828\n",
       "-0.15       9559\n",
       " 14.85      4236\n",
       " 13.85      4060\n",
       " 15.85      2936\n",
       "-1.15        965\n",
       "Name: temperature, dtype: int64"
      ]
     },
     "execution_count": 19,
     "metadata": {},
     "output_type": "execute_result"
    }
   ],
   "source": [
    "df[\"temperature\"].value_counts()"
   ]
  },
  {
   "cell_type": "code",
   "execution_count": 20,
   "id": "719634b3",
   "metadata": {},
   "outputs": [
    {
     "data": {
      "text/plain": [
       "Clouds     605989\n",
       "Rain        62730\n",
       "Clear       32832\n",
       "Drizzle     13784\n",
       "Snow         1844\n",
       "Mist         1012\n",
       "Name: main, dtype: int64"
      ]
     },
     "execution_count": 20,
     "metadata": {},
     "output_type": "execute_result"
    }
   ],
   "source": [
    "df[\"main\"].value_counts()"
   ]
  },
  {
   "cell_type": "code",
   "execution_count": 23,
   "id": "de0df62c",
   "metadata": {},
   "outputs": [
    {
     "data": {
      "text/html": [
       "<div>\n",
       "<style scoped>\n",
       "    .dataframe tbody tr th:only-of-type {\n",
       "        vertical-align: middle;\n",
       "    }\n",
       "\n",
       "    .dataframe tbody tr th {\n",
       "        vertical-align: top;\n",
       "    }\n",
       "\n",
       "    .dataframe thead th {\n",
       "        text-align: right;\n",
       "    }\n",
       "</style>\n",
       "<table border=\"1\" class=\"dataframe\">\n",
       "  <thead>\n",
       "    <tr style=\"text-align: right;\">\n",
       "      <th></th>\n",
       "      <th>number</th>\n",
       "      <th>available_bikes</th>\n",
       "      <th>available_stands</th>\n",
       "      <th>dt</th>\n",
       "      <th>temperature</th>\n",
       "      <th>main</th>\n",
       "      <th>day_of_week</th>\n",
       "    </tr>\n",
       "  </thead>\n",
       "  <tbody>\n",
       "    <tr>\n",
       "      <th>0</th>\n",
       "      <td>86</td>\n",
       "      <td>0</td>\n",
       "      <td>38</td>\n",
       "      <td>2022-02-15 10:38:18</td>\n",
       "      <td>6.85</td>\n",
       "      <td>Clouds</td>\n",
       "      <td>Tuesday</td>\n",
       "    </tr>\n",
       "    <tr>\n",
       "      <th>1</th>\n",
       "      <td>55</td>\n",
       "      <td>14</td>\n",
       "      <td>21</td>\n",
       "      <td>2022-02-15 10:38:21</td>\n",
       "      <td>6.85</td>\n",
       "      <td>Clouds</td>\n",
       "      <td>Tuesday</td>\n",
       "    </tr>\n",
       "    <tr>\n",
       "      <th>2</th>\n",
       "      <td>80</td>\n",
       "      <td>22</td>\n",
       "      <td>18</td>\n",
       "      <td>2022-02-15 10:38:35</td>\n",
       "      <td>6.85</td>\n",
       "      <td>Clouds</td>\n",
       "      <td>Tuesday</td>\n",
       "    </tr>\n",
       "    <tr>\n",
       "      <th>3</th>\n",
       "      <td>32</td>\n",
       "      <td>15</td>\n",
       "      <td>15</td>\n",
       "      <td>2022-02-15 10:38:42</td>\n",
       "      <td>6.85</td>\n",
       "      <td>Clouds</td>\n",
       "      <td>Tuesday</td>\n",
       "    </tr>\n",
       "    <tr>\n",
       "      <th>4</th>\n",
       "      <td>99</td>\n",
       "      <td>15</td>\n",
       "      <td>15</td>\n",
       "      <td>2022-02-15 10:38:55</td>\n",
       "      <td>6.85</td>\n",
       "      <td>Clouds</td>\n",
       "      <td>Tuesday</td>\n",
       "    </tr>\n",
       "  </tbody>\n",
       "</table>\n",
       "</div>"
      ],
      "text/plain": [
       "   number  available_bikes  available_stands                  dt  temperature  \\\n",
       "0      86                0                38 2022-02-15 10:38:18         6.85   \n",
       "1      55               14                21 2022-02-15 10:38:21         6.85   \n",
       "2      80               22                18 2022-02-15 10:38:35         6.85   \n",
       "3      32               15                15 2022-02-15 10:38:42         6.85   \n",
       "4      99               15                15 2022-02-15 10:38:55         6.85   \n",
       "\n",
       "     main day_of_week  \n",
       "0  Clouds     Tuesday  \n",
       "1  Clouds     Tuesday  \n",
       "2  Clouds     Tuesday  \n",
       "3  Clouds     Tuesday  \n",
       "4  Clouds     Tuesday  "
      ]
     },
     "execution_count": 23,
     "metadata": {},
     "output_type": "execute_result"
    }
   ],
   "source": [
    "df[\"dt\"] = pd.to_datetime(df[\"dt\"], unit=\"s\")\n",
    "df[\"day_of_week\"] = df[\"dt\"].dt.day_name()\n",
    "df.head()\n"
   ]
  },
  {
   "cell_type": "code",
   "execution_count": 25,
   "id": "9b83da7a",
   "metadata": {},
   "outputs": [
    {
     "data": {
      "text/html": [
       "<div>\n",
       "<style scoped>\n",
       "    .dataframe tbody tr th:only-of-type {\n",
       "        vertical-align: middle;\n",
       "    }\n",
       "\n",
       "    .dataframe tbody tr th {\n",
       "        vertical-align: top;\n",
       "    }\n",
       "\n",
       "    .dataframe thead th {\n",
       "        text-align: right;\n",
       "    }\n",
       "</style>\n",
       "<table border=\"1\" class=\"dataframe\">\n",
       "  <thead>\n",
       "    <tr style=\"text-align: right;\">\n",
       "      <th></th>\n",
       "      <th>number</th>\n",
       "      <th>available_bikes</th>\n",
       "      <th>available_stands</th>\n",
       "      <th>dt</th>\n",
       "      <th>temperature</th>\n",
       "      <th>main</th>\n",
       "      <th>day_of_week</th>\n",
       "      <th>hour</th>\n",
       "    </tr>\n",
       "  </thead>\n",
       "  <tbody>\n",
       "    <tr>\n",
       "      <th>0</th>\n",
       "      <td>86</td>\n",
       "      <td>0</td>\n",
       "      <td>38</td>\n",
       "      <td>2022-02-15 10:38:18</td>\n",
       "      <td>6.85</td>\n",
       "      <td>Clouds</td>\n",
       "      <td>Tuesday</td>\n",
       "      <td>10</td>\n",
       "    </tr>\n",
       "    <tr>\n",
       "      <th>1</th>\n",
       "      <td>55</td>\n",
       "      <td>14</td>\n",
       "      <td>21</td>\n",
       "      <td>2022-02-15 10:38:21</td>\n",
       "      <td>6.85</td>\n",
       "      <td>Clouds</td>\n",
       "      <td>Tuesday</td>\n",
       "      <td>10</td>\n",
       "    </tr>\n",
       "    <tr>\n",
       "      <th>2</th>\n",
       "      <td>80</td>\n",
       "      <td>22</td>\n",
       "      <td>18</td>\n",
       "      <td>2022-02-15 10:38:35</td>\n",
       "      <td>6.85</td>\n",
       "      <td>Clouds</td>\n",
       "      <td>Tuesday</td>\n",
       "      <td>10</td>\n",
       "    </tr>\n",
       "    <tr>\n",
       "      <th>3</th>\n",
       "      <td>32</td>\n",
       "      <td>15</td>\n",
       "      <td>15</td>\n",
       "      <td>2022-02-15 10:38:42</td>\n",
       "      <td>6.85</td>\n",
       "      <td>Clouds</td>\n",
       "      <td>Tuesday</td>\n",
       "      <td>10</td>\n",
       "    </tr>\n",
       "    <tr>\n",
       "      <th>4</th>\n",
       "      <td>99</td>\n",
       "      <td>15</td>\n",
       "      <td>15</td>\n",
       "      <td>2022-02-15 10:38:55</td>\n",
       "      <td>6.85</td>\n",
       "      <td>Clouds</td>\n",
       "      <td>Tuesday</td>\n",
       "      <td>10</td>\n",
       "    </tr>\n",
       "  </tbody>\n",
       "</table>\n",
       "</div>"
      ],
      "text/plain": [
       "   number  available_bikes  available_stands                  dt  temperature  \\\n",
       "0      86                0                38 2022-02-15 10:38:18         6.85   \n",
       "1      55               14                21 2022-02-15 10:38:21         6.85   \n",
       "2      80               22                18 2022-02-15 10:38:35         6.85   \n",
       "3      32               15                15 2022-02-15 10:38:42         6.85   \n",
       "4      99               15                15 2022-02-15 10:38:55         6.85   \n",
       "\n",
       "     main day_of_week  hour  \n",
       "0  Clouds     Tuesday    10  \n",
       "1  Clouds     Tuesday    10  \n",
       "2  Clouds     Tuesday    10  \n",
       "3  Clouds     Tuesday    10  \n",
       "4  Clouds     Tuesday    10  "
      ]
     },
     "execution_count": 25,
     "metadata": {},
     "output_type": "execute_result"
    }
   ],
   "source": [
    "df[\"hour\"] = df[\"dt\"].dt.hour\n",
    "df.head()"
   ]
  },
  {
   "cell_type": "code",
   "execution_count": 27,
   "id": "5f5a56c0",
   "metadata": {},
   "outputs": [
    {
     "data": {
      "text/plain": [
       "number                       int64\n",
       "available_bikes              int64\n",
       "available_stands             int64\n",
       "dt                  datetime64[ns]\n",
       "temperature                float64\n",
       "main                        object\n",
       "day_of_week                 object\n",
       "hour                         int64\n",
       "dtype: object"
      ]
     },
     "execution_count": 27,
     "metadata": {},
     "output_type": "execute_result"
    }
   ],
   "source": [
    "df.dtypes"
   ]
  },
  {
   "cell_type": "code",
   "execution_count": 29,
   "id": "0c061867",
   "metadata": {},
   "outputs": [],
   "source": [
    "#Changes the value type to categorical\n",
    "df[\"main\"] = df[\"main\"].astype(\"category\")\n",
    "df[\"day_of_week\"] = df[\"day_of_week\"].astype(\"category\")\n",
    "df[\"hour\"] = df[\"hour\"].astype(\"category\")"
   ]
  },
  {
   "cell_type": "code",
   "execution_count": 30,
   "id": "04fe326b",
   "metadata": {},
   "outputs": [
    {
     "data": {
      "text/plain": [
       "number                       int64\n",
       "available_bikes              int64\n",
       "available_stands             int64\n",
       "dt                  datetime64[ns]\n",
       "temperature                float64\n",
       "main                      category\n",
       "day_of_week               category\n",
       "hour                      category\n",
       "dtype: object"
      ]
     },
     "execution_count": 30,
     "metadata": {},
     "output_type": "execute_result"
    }
   ],
   "source": [
    "df.dtypes"
   ]
  },
  {
   "cell_type": "code",
   "execution_count": 24,
   "id": "9a179791",
   "metadata": {},
   "outputs": [
    {
     "data": {
      "text/plain": [
       "Tuesday      116242\n",
       "Wednesday    113274\n",
       "Thursday     101886\n",
       "Monday       101637\n",
       "Friday        99867\n",
       "Saturday      93964\n",
       "Sunday        91321\n",
       "Name: day_of_week, dtype: int64"
      ]
     },
     "execution_count": 24,
     "metadata": {},
     "output_type": "execute_result"
    }
   ],
   "source": [
    "df[\"day_of_week\"].value_counts()"
   ]
  },
  {
   "cell_type": "code",
   "execution_count": 37,
   "id": "a06fc533",
   "metadata": {},
   "outputs": [
    {
     "name": "stdout",
     "output_type": "stream",
     "text": [
      "[86, 55, 80, 32, 99, 115, 9, 18, 39, 13, 62, 117, 12, 42, 82, 107, 28, 65, 40, 95, 76, 47, 114, 15, 75, 24, 116, 25, 26, 16, 102, 59, 57, 112, 64, 3, 106, 109, 101, 21, 11, 60, 58, 93, 63, 5, 111, 2, 87, 17, 27, 44, 91, 73, 103, 51, 37, 7, 110, 97, 61, 89, 69, 38, 85, 52, 72, 104, 108, 98, 84, 78, 31, 68, 66, 94, 45, 36, 41, 50, 43, 48, 71, 105, 19, 96, 34, 30, 6, 22, 100, 10, 67, 54, 83, 23, 4, 8, 90, 88, 113, 77, 74, 29, 56, 79, 53, 49, 92, 33]\n"
     ]
    }
   ],
   "source": [
    "station_numbers = list(df[\"number\"].unique())\n",
    "print(station_numbers)"
   ]
  },
  {
   "cell_type": "code",
   "execution_count": 60,
   "id": "d0b0f05d",
   "metadata": {},
   "outputs": [
    {
     "name": "stdout",
     "output_type": "stream",
     "text": [
      "86\n",
      "{86: LogisticRegression(max_iter=1500)}\n"
     ]
    }
   ],
   "source": [
    "model={}\n",
    "\n",
    "for station in station_numbers:\n",
    "    station_df = df[df[\"number\"] == station]\n",
    "    X = station_df[[\"main\", \"hour\", \"day_of_week\", \"temperature\"]]\n",
    "    y = station_df[\"available_bikes\"]\n",
    "    dummy_fields = [\"main\", \"hour\", \"day_of_week\"]\n",
    "    for each in dummy_fields:\n",
    "        dummies = pd.get_dummies(X[each], prefix=each, drop_first =False)\n",
    "        X = pd.concat([X, dummies], axis=1)\n",
    "    X = X.drop(dummy_fields, axis=1)\n",
    "    X_train, X_test, y_train, y_test = train_test_split(X,y)\n",
    "    model[station] = LogisticRegression( solver='lbfgs', max_iter=1500)\n",
    "    test = model[station].fit(X_train, y_train)\n",
    "    print(station)\n",
    "    break\n",
    "\n",
    "print(model)\n",
    "\n",
    "\n",
    "    \n"
   ]
  },
  {
   "cell_type": "code",
   "execution_count": 61,
   "id": "47f37e43",
   "metadata": {},
   "outputs": [
    {
     "ename": "AttributeError",
     "evalue": "'LogisticRegression' object has no attribute 'summary'",
     "output_type": "error",
     "traceback": [
      "\u001b[1;31m---------------------------------------------------------------------------\u001b[0m",
      "\u001b[1;31mAttributeError\u001b[0m                            Traceback (most recent call last)",
      "\u001b[1;32m~\\AppData\\Local\\Temp/ipykernel_15128/1427520837.py\u001b[0m in \u001b[0;36m<module>\u001b[1;34m\u001b[0m\n\u001b[1;32m----> 1\u001b[1;33m \u001b[0mprint\u001b[0m\u001b[1;33m(\u001b[0m\u001b[0mtest\u001b[0m\u001b[1;33m.\u001b[0m\u001b[0msummary\u001b[0m\u001b[1;33m(\u001b[0m\u001b[1;33m)\u001b[0m\u001b[1;33m)\u001b[0m\u001b[1;33m\u001b[0m\u001b[1;33m\u001b[0m\u001b[0m\n\u001b[0m",
      "\u001b[1;31mAttributeError\u001b[0m: 'LogisticRegression' object has no attribute 'summary'"
     ]
    }
   ],
   "source": [
    "print(test.summary())"
   ]
  },
  {
   "cell_type": "code",
   "execution_count": null,
   "id": "e40340a6",
   "metadata": {},
   "outputs": [],
   "source": []
  },
  {
   "cell_type": "code",
   "execution_count": 40,
   "id": "f2ba2c99",
   "metadata": {},
   "outputs": [
    {
     "data": {
      "text/plain": [
       "Index(['number', 'available_bikes', 'available_stands', 'dt', 'temperature',\n",
       "       'main', 'day_of_week', 'hour'],\n",
       "      dtype='object')"
      ]
     },
     "execution_count": 40,
     "metadata": {},
     "output_type": "execute_result"
    }
   ],
   "source": [
    "df.columns"
   ]
  }
 ],
 "metadata": {
  "kernelspec": {
   "display_name": "Python 3 (ipykernel)",
   "language": "python",
   "name": "python3"
  },
  "language_info": {
   "codemirror_mode": {
    "name": "ipython",
    "version": 3
   },
   "file_extension": ".py",
   "mimetype": "text/x-python",
   "name": "python",
   "nbconvert_exporter": "python",
   "pygments_lexer": "ipython3",
   "version": "3.9.7"
  }
 },
 "nbformat": 4,
 "nbformat_minor": 5
}

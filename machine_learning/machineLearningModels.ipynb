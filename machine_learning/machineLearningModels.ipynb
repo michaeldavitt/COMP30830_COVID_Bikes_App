{
 "cells": [
  {
   "cell_type": "markdown",
   "id": "a45d60fa",
   "metadata": {},
   "source": [
    "# Machine Learning Notebook for bike/parking space predictions"
   ]
  },
  {
   "cell_type": "markdown",
   "id": "068085ea",
   "metadata": {},
   "source": [
    "## Section 0: Import Required Libraries"
   ]
  },
  {
   "cell_type": "code",
   "execution_count": 1,
   "id": "0d14f79e",
   "metadata": {},
   "outputs": [],
   "source": [
    "from sqlalchemy import create_engine\n",
    "from sklearn.metrics import mean_squared_error, r2_score\n",
    "import pandas as pd\n",
    "import numpy as np\n",
    "from matplotlib import pyplot as plt\n",
    "from sklearn.linear_model import LogisticRegression, LinearRegression\n",
    "from sklearn.model_selection import train_test_split\n",
    "import pickle"
   ]
  },
  {
   "cell_type": "markdown",
   "id": "833e674e",
   "metadata": {},
   "source": [
    "## Section 1: Data preparation"
   ]
  },
  {
   "cell_type": "markdown",
   "id": "a02d2877",
   "metadata": {},
   "source": [
    "### Section 1.1: Create a function to create to the SQL database"
   ]
  },
  {
   "cell_type": "code",
   "execution_count": 2,
   "id": "cb65e35a",
   "metadata": {},
   "outputs": [],
   "source": [
    "def connect_to_database():\n",
    "    \"\"\"Function for connecting to the SQL database\"\"\"\n",
    "\n",
    "    # Create variables to store cretentials\n",
    "    USER = \"admin\"\n",
    "    DB = \"dbikes\"\n",
    "    PORT = \"3306\"\n",
    "    URL = \"database-1.ctesjcult8dm.eu-west-1.rds.amazonaws.com\"\n",
    "\n",
    "    # Read in password from text file\n",
    "    with open('../mysql_password.txt') as f:\n",
    "        PASSWORD = ''.join(f.readlines())\n",
    "        PASSWORD = str(PASSWORD).split()[0]\n",
    "\n",
    "    # Create engine using credentials\n",
    "    engine = create_engine(\n",
    "        \"mysql+mysqlconnector://{}:{}@{}:{}/{}\".format(USER, PASSWORD, URL, PORT, DB), echo=True)\n",
    "\n",
    "    # Create connection using engine and return connection\n",
    "    conn = engine.connect()\n",
    "    return conn\n"
   ]
  },
  {
   "cell_type": "code",
   "execution_count": 3,
   "id": "4b463feb",
   "metadata": {},
   "outputs": [
    {
     "name": "stdout",
     "output_type": "stream",
     "text": [
      "2022-04-01 12:46:49,925 INFO sqlalchemy.engine.Engine SHOW VARIABLES LIKE 'sql_mode'\n",
      "2022-04-01 12:46:49,928 INFO sqlalchemy.engine.Engine [raw sql] {}\n",
      "2022-04-01 12:46:49,957 INFO sqlalchemy.engine.Engine SHOW VARIABLES LIKE 'lower_case_table_names'\n",
      "2022-04-01 12:46:49,959 INFO sqlalchemy.engine.Engine [generated in 0.01106s] {}\n",
      "2022-04-01 12:46:50,009 INFO sqlalchemy.engine.Engine SELECT DATABASE()\n",
      "2022-04-01 12:46:50,011 INFO sqlalchemy.engine.Engine [raw sql] {}\n"
     ]
    }
   ],
   "source": [
    "engine = connect_to_database()"
   ]
  },
  {
   "cell_type": "markdown",
   "id": "e1987d9d",
   "metadata": {},
   "source": [
    "### Section 1.2: Read in real time bike/parking space availability data"
   ]
  },
  {
   "cell_type": "code",
   "execution_count": 4,
   "id": "260097e1",
   "metadata": {},
   "outputs": [
    {
     "name": "stdout",
     "output_type": "stream",
     "text": [
      "2022-04-01 12:46:50,193 INFO sqlalchemy.engine.Engine SELECT * FROM dbikes.availability\n",
      "2022-04-01 12:46:50,194 INFO sqlalchemy.engine.Engine [raw sql] {}\n"
     ]
    }
   ],
   "source": [
    "availability_df = pd.read_sql_query(\"SELECT * FROM dbikes.availability\", engine)"
   ]
  },
  {
   "cell_type": "markdown",
   "id": "bdaa41cf",
   "metadata": {},
   "source": [
    "### Section 1.3: Remove Duplicate values from real time availability"
   ]
  },
  {
   "cell_type": "code",
   "execution_count": 5,
   "id": "92062119",
   "metadata": {},
   "outputs": [],
   "source": [
    "# Remove duplicates\n",
    "availability_df.drop_duplicates(inplace=True)"
   ]
  },
  {
   "cell_type": "code",
   "execution_count": 6,
   "id": "c56de585",
   "metadata": {},
   "outputs": [
    {
     "data": {
      "text/html": [
       "<div>\n",
       "<style scoped>\n",
       "    .dataframe tbody tr th:only-of-type {\n",
       "        vertical-align: middle;\n",
       "    }\n",
       "\n",
       "    .dataframe tbody tr th {\n",
       "        vertical-align: top;\n",
       "    }\n",
       "\n",
       "    .dataframe thead th {\n",
       "        text-align: right;\n",
       "    }\n",
       "</style>\n",
       "<table border=\"1\" class=\"dataframe\">\n",
       "  <thead>\n",
       "    <tr style=\"text-align: right;\">\n",
       "      <th></th>\n",
       "      <th>number</th>\n",
       "      <th>available_bikes</th>\n",
       "      <th>available_stands</th>\n",
       "      <th>last_update</th>\n",
       "    </tr>\n",
       "  </thead>\n",
       "  <tbody>\n",
       "    <tr>\n",
       "      <th>0</th>\n",
       "      <td>42</td>\n",
       "      <td>17</td>\n",
       "      <td>13</td>\n",
       "      <td>1644921618000</td>\n",
       "    </tr>\n",
       "    <tr>\n",
       "      <th>1</th>\n",
       "      <td>30</td>\n",
       "      <td>15</td>\n",
       "      <td>5</td>\n",
       "      <td>1644922002000</td>\n",
       "    </tr>\n",
       "    <tr>\n",
       "      <th>2</th>\n",
       "      <td>54</td>\n",
       "      <td>16</td>\n",
       "      <td>17</td>\n",
       "      <td>1644922012000</td>\n",
       "    </tr>\n",
       "    <tr>\n",
       "      <th>3</th>\n",
       "      <td>108</td>\n",
       "      <td>10</td>\n",
       "      <td>25</td>\n",
       "      <td>1644921926000</td>\n",
       "    </tr>\n",
       "    <tr>\n",
       "      <th>4</th>\n",
       "      <td>56</td>\n",
       "      <td>9</td>\n",
       "      <td>31</td>\n",
       "      <td>1644922071000</td>\n",
       "    </tr>\n",
       "  </tbody>\n",
       "</table>\n",
       "</div>"
      ],
      "text/plain": [
       "   number  available_bikes  available_stands    last_update\n",
       "0      42               17                13  1644921618000\n",
       "1      30               15                 5  1644922002000\n",
       "2      54               16                17  1644922012000\n",
       "3     108               10                25  1644921926000\n",
       "4      56                9                31  1644922071000"
      ]
     },
     "execution_count": 6,
     "metadata": {},
     "output_type": "execute_result"
    }
   ],
   "source": [
    "availability_df.head()"
   ]
  },
  {
   "cell_type": "markdown",
   "id": "36b7565a",
   "metadata": {},
   "source": [
    "Observations: We anticipate that day of the week and hour of the day will be key indicators of bike/parking space availability, so we will utilise these features in all of our models."
   ]
  },
  {
   "cell_type": "markdown",
   "id": "30bfcec6",
   "metadata": {},
   "source": [
    "### Section 1.4: Read in weather data"
   ]
  },
  {
   "cell_type": "code",
   "execution_count": 7,
   "id": "d2485768",
   "metadata": {},
   "outputs": [
    {
     "name": "stdout",
     "output_type": "stream",
     "text": [
      "2022-04-01 12:47:53,073 INFO sqlalchemy.engine.Engine SELECT dt, temperature, pressure, humidity, clouds, visibility, main FROM dbikes.real_time_weather\n",
      "2022-04-01 12:47:53,076 INFO sqlalchemy.engine.Engine [raw sql] {}\n"
     ]
    }
   ],
   "source": [
    "weather_df = pd.read_sql_query(\"SELECT dt, temperature, pressure, humidity, clouds, visibility, main FROM dbikes.real_time_weather\", engine)"
   ]
  },
  {
   "cell_type": "markdown",
   "id": "1f84e87c",
   "metadata": {},
   "source": [
    "### Section 1.5: Remove duplicate values from weather"
   ]
  },
  {
   "cell_type": "code",
   "execution_count": 8,
   "id": "51e309b7",
   "metadata": {},
   "outputs": [],
   "source": [
    "#Drop duplicates\n",
    "weather_df.drop_duplicates(inplace=True)"
   ]
  },
  {
   "cell_type": "code",
   "execution_count": 9,
   "id": "b4abf64e",
   "metadata": {},
   "outputs": [
    {
     "data": {
      "text/html": [
       "<div>\n",
       "<style scoped>\n",
       "    .dataframe tbody tr th:only-of-type {\n",
       "        vertical-align: middle;\n",
       "    }\n",
       "\n",
       "    .dataframe tbody tr th {\n",
       "        vertical-align: top;\n",
       "    }\n",
       "\n",
       "    .dataframe thead th {\n",
       "        text-align: right;\n",
       "    }\n",
       "</style>\n",
       "<table border=\"1\" class=\"dataframe\">\n",
       "  <thead>\n",
       "    <tr style=\"text-align: right;\">\n",
       "      <th></th>\n",
       "      <th>dt</th>\n",
       "      <th>temperature</th>\n",
       "      <th>pressure</th>\n",
       "      <th>humidity</th>\n",
       "      <th>clouds</th>\n",
       "      <th>visibility</th>\n",
       "      <th>main</th>\n",
       "    </tr>\n",
       "  </thead>\n",
       "  <tbody>\n",
       "    <tr>\n",
       "      <th>0</th>\n",
       "      <td>1644922267</td>\n",
       "      <td>280</td>\n",
       "      <td>1001</td>\n",
       "      <td>80</td>\n",
       "      <td>75</td>\n",
       "      <td>10000</td>\n",
       "      <td>Clouds</td>\n",
       "    </tr>\n",
       "    <tr>\n",
       "      <th>1</th>\n",
       "      <td>1644922316</td>\n",
       "      <td>280</td>\n",
       "      <td>1001</td>\n",
       "      <td>80</td>\n",
       "      <td>75</td>\n",
       "      <td>10000</td>\n",
       "      <td>Clouds</td>\n",
       "    </tr>\n",
       "    <tr>\n",
       "      <th>2</th>\n",
       "      <td>1644922617</td>\n",
       "      <td>280</td>\n",
       "      <td>1001</td>\n",
       "      <td>80</td>\n",
       "      <td>75</td>\n",
       "      <td>10000</td>\n",
       "      <td>Clouds</td>\n",
       "    </tr>\n",
       "    <tr>\n",
       "      <th>3</th>\n",
       "      <td>1644922917</td>\n",
       "      <td>280</td>\n",
       "      <td>1001</td>\n",
       "      <td>79</td>\n",
       "      <td>75</td>\n",
       "      <td>10000</td>\n",
       "      <td>Clouds</td>\n",
       "    </tr>\n",
       "    <tr>\n",
       "      <th>4</th>\n",
       "      <td>1644923217</td>\n",
       "      <td>280</td>\n",
       "      <td>1001</td>\n",
       "      <td>79</td>\n",
       "      <td>75</td>\n",
       "      <td>10000</td>\n",
       "      <td>Clouds</td>\n",
       "    </tr>\n",
       "  </tbody>\n",
       "</table>\n",
       "</div>"
      ],
      "text/plain": [
       "           dt  temperature  pressure  humidity  clouds  visibility    main\n",
       "0  1644922267          280      1001        80      75       10000  Clouds\n",
       "1  1644922316          280      1001        80      75       10000  Clouds\n",
       "2  1644922617          280      1001        80      75       10000  Clouds\n",
       "3  1644922917          280      1001        79      75       10000  Clouds\n",
       "4  1644923217          280      1001        79      75       10000  Clouds"
      ]
     },
     "execution_count": 9,
     "metadata": {},
     "output_type": "execute_result"
    }
   ],
   "source": [
    "weather_df.head()"
   ]
  },
  {
   "cell_type": "markdown",
   "id": "e7c675c6",
   "metadata": {},
   "source": [
    "Observations: We expect that temparature will have an impact on bike availability. Logically, we would expect that the volume of cyclists will decrease as it gets colder, as the experience of cycling will be less pleasant. Main will also be an important feature. Main assigns a category to the weather in each record (eg: clouds, rain, drizzle etc.). We expect other variables to be less impactful, however, we will perform EDA to identify potentially worthwhile features, and will create several different models to test the impact of adding/removing certain variables."
   ]
  },
  {
   "cell_type": "markdown",
   "id": "b1ab350a",
   "metadata": {},
   "source": [
    "### Section 1.6: Rename last update column in availability dataframe to dt to help with the merging of the availability and weather dataframes"
   ]
  },
  {
   "cell_type": "code",
   "execution_count": 10,
   "id": "3027bf73",
   "metadata": {},
   "outputs": [
    {
     "data": {
      "text/plain": [
       "Index(['number', 'available_bikes', 'available_stands', 'dt'], dtype='object')"
      ]
     },
     "execution_count": 10,
     "metadata": {},
     "output_type": "execute_result"
    }
   ],
   "source": [
    "#Changes the name of the column\n",
    "availability_df.rename(columns={\"last_update\": \"dt\"}, inplace=True)\n",
    "availability_df.columns"
   ]
  },
  {
   "cell_type": "markdown",
   "id": "1dcd0254",
   "metadata": {},
   "source": [
    "### Section 1.7: Change the type of the dt variable to an np.int64 type for merging"
   ]
  },
  {
   "cell_type": "code",
   "execution_count": 11,
   "id": "c92508ee",
   "metadata": {},
   "outputs": [],
   "source": [
    "availability_df[\"dt\"] = availability_df[\"dt\"].astype(np.int64)\n",
    "weather_df[\"dt\"]= weather_df[\"dt\"].astype(np.int64)"
   ]
  },
  {
   "cell_type": "markdown",
   "id": "6c009e62",
   "metadata": {},
   "source": [
    "### Section 1.8: Sort the dt columns for merging"
   ]
  },
  {
   "cell_type": "code",
   "execution_count": 12,
   "id": "6784b153",
   "metadata": {},
   "outputs": [],
   "source": [
    "availability_df.sort_values(by=\"dt\", inplace=True)\n",
    "weather_df.sort_values(by=\"dt\", inplace=True)"
   ]
  },
  {
   "cell_type": "markdown",
   "id": "85cddd78",
   "metadata": {},
   "source": [
    "### Section 1.9: Convert seconds to milliseconds in dt column in availability so that it is comparable with the corresponding weather column"
   ]
  },
  {
   "cell_type": "code",
   "execution_count": 13,
   "id": "c600cc28",
   "metadata": {},
   "outputs": [],
   "source": [
    "#Converts seconds to miliseconds\n",
    "availability_df[\"dt\"] = availability_df[\"dt\"] // 1000"
   ]
  },
  {
   "cell_type": "markdown",
   "id": "8f109117",
   "metadata": {},
   "source": [
    "### Section 1.10: Merge weather and availability dataframes"
   ]
  },
  {
   "cell_type": "code",
   "execution_count": 14,
   "id": "e2f8a866",
   "metadata": {},
   "outputs": [],
   "source": [
    "df=pd.merge_asof(availability_df, weather_df, on=\"dt\", direction=\"nearest\")"
   ]
  },
  {
   "cell_type": "markdown",
   "id": "6ac966f7",
   "metadata": {},
   "source": [
    "### Section 1.11: Convert temperature from Kelvin to Celcius"
   ]
  },
  {
   "cell_type": "code",
   "execution_count": 15,
   "id": "eb53ff28",
   "metadata": {},
   "outputs": [],
   "source": [
    "df[\"temperature\"] = df[\"temperature\"] - 273.15"
   ]
  },
  {
   "cell_type": "markdown",
   "id": "57205a4b",
   "metadata": {},
   "source": [
    "### Section 1.12: Transform the dt column to get hour of the day and day of the week"
   ]
  },
  {
   "cell_type": "code",
   "execution_count": 16,
   "id": "de0df62c",
   "metadata": {},
   "outputs": [],
   "source": [
    "df[\"dt\"] = pd.to_datetime(df[\"dt\"], unit=\"s\")\n",
    "df[\"day_of_week\"] = df[\"dt\"].dt.day_name()\n",
    "df[\"hour\"] = df[\"dt\"].dt.hour"
   ]
  },
  {
   "cell_type": "markdown",
   "id": "b18e06b8",
   "metadata": {},
   "source": [
    "### Section 1.13: Convert categorical variables to \"category\" data type"
   ]
  },
  {
   "cell_type": "code",
   "execution_count": 17,
   "id": "fd2c6a04",
   "metadata": {},
   "outputs": [
    {
     "data": {
      "text/plain": [
       "number                       int64\n",
       "available_bikes              int64\n",
       "available_stands             int64\n",
       "dt                  datetime64[ns]\n",
       "temperature                float64\n",
       "pressure                     int64\n",
       "humidity                     int64\n",
       "clouds                       int64\n",
       "visibility                   int64\n",
       "main                        object\n",
       "day_of_week                 object\n",
       "hour                         int64\n",
       "dtype: object"
      ]
     },
     "execution_count": 17,
     "metadata": {},
     "output_type": "execute_result"
    }
   ],
   "source": [
    "df.dtypes"
   ]
  },
  {
   "cell_type": "code",
   "execution_count": 18,
   "id": "0c061867",
   "metadata": {},
   "outputs": [],
   "source": [
    "df[\"main\"] = df[\"main\"].astype(\"category\")\n",
    "df[\"day_of_week\"] = df[\"day_of_week\"].astype(\"category\")\n",
    "df[\"hour\"] = df[\"hour\"].astype(\"category\")"
   ]
  },
  {
   "cell_type": "code",
   "execution_count": 19,
   "id": "7a221720",
   "metadata": {},
   "outputs": [
    {
     "data": {
      "text/plain": [
       "number                       int64\n",
       "available_bikes              int64\n",
       "available_stands             int64\n",
       "dt                  datetime64[ns]\n",
       "temperature                float64\n",
       "pressure                     int64\n",
       "humidity                     int64\n",
       "clouds                       int64\n",
       "visibility                   int64\n",
       "main                      category\n",
       "day_of_week               category\n",
       "hour                      category\n",
       "dtype: object"
      ]
     },
     "execution_count": 19,
     "metadata": {},
     "output_type": "execute_result"
    }
   ],
   "source": [
    "df.dtypes"
   ]
  },
  {
   "cell_type": "markdown",
   "id": "7b6754d3",
   "metadata": {},
   "source": [
    "## Section 2: Feature Plots"
   ]
  },
  {
   "cell_type": "markdown",
   "id": "52c98b71",
   "metadata": {},
   "source": [
    "### Section 2.1: Temperature"
   ]
  },
  {
   "cell_type": "code",
   "execution_count": 20,
   "id": "a40741d5",
   "metadata": {},
   "outputs": [
    {
     "data": {
      "text/plain": [
       "<matplotlib.collections.PathCollection at 0x1b252bf03d0>"
      ]
     },
     "execution_count": 20,
     "metadata": {},
     "output_type": "execute_result"
    },
    {
     "data": {
      "image/png": "[encoded data removed]",
      "text/plain": [
       "<Figure size 1080x720 with 1 Axes>"
      ]
     },
     "metadata": {
      "needs_background": "light"
     },
     "output_type": "display_data"
    }
   ],
   "source": [
    "plt.figure(figsize=(15, 10))\n",
    "plt.scatter(df[\"temperature\"][df[\"number\"] == 2], df[\"available_bikes\"][df[\"number\"] == 2])"
   ]
  },
  {
   "cell_type": "markdown",
   "id": "6b64712d",
   "metadata": {},
   "source": [
    "Observations: We cannot visually identify any relationship between temperature and bike availability for station 2, suggesting that temperature is not a determinant of bike availability."
   ]
  },
  {
   "cell_type": "markdown",
   "id": "7cf33124",
   "metadata": {},
   "source": [
    "### Section 2.2: Pressure"
   ]
  },
  {
   "cell_type": "code",
   "execution_count": 21,
   "id": "ddd4ae42",
   "metadata": {},
   "outputs": [
    {
     "data": {
      "text/plain": [
       "<matplotlib.collections.PathCollection at 0x1b25349a170>"
      ]
     },
     "execution_count": 21,
     "metadata": {},
     "output_type": "execute_result"
    },
    {
     "data": {
      "image/png": "[encoded data removed]",
      "text/plain": [
       "<Figure size 1080x720 with 1 Axes>"
      ]
     },
     "metadata": {
      "needs_background": "light"
     },
     "output_type": "display_data"
    }
   ],
   "source": [
    "plt.figure(figsize=(15, 10))\n",
    "plt.scatter(df[\"pressure\"][df[\"number\"] == 2], df[\"available_bikes\"][df[\"number\"] == 2])"
   ]
  },
  {
   "cell_type": "markdown",
   "id": "6b64712d",
   "metadata": {},
   "source": [
    "Observations: We cannot visually identify any relationship between pressure and bike availability for station 2, suggesting that pressure is not a determinant of bike availability."
   ]
  },
  {
   "cell_type": "markdown",
   "id": "e6abc2bb",
   "metadata": {},
   "source": [
    "### Section 2.3: Humidity"
   ]
  },
  {
   "cell_type": "code",
   "execution_count": 22,
   "id": "247409b3",
   "metadata": {},
   "outputs": [
    {
     "data": {
      "text/plain": [
       "<matplotlib.collections.PathCollection at 0x1b25388b0d0>"
      ]
     },
     "execution_count": 22,
     "metadata": {},
     "output_type": "execute_result"
    },
    {
     "data": {
      "image/png": "[encoded data removed]",
      "text/plain": [
       "<Figure size 1080x720 with 1 Axes>"
      ]
     },
     "metadata": {
      "needs_background": "light"
     },
     "output_type": "display_data"
    }
   ],
   "source": [
    "plt.figure(figsize=(15, 10))\n",
    "plt.scatter(df[\"humidity\"][df[\"number\"] == 2], df[\"available_bikes\"][df[\"number\"] == 2])"
   ]
  },
  {
   "cell_type": "markdown",
   "id": "6b64712d",
   "metadata": {},
   "source": [
    "Observations: We cannot visually identify any relationship between humidity and bike availability for station 2, suggesting that humidity is not a determinant of bike availability."
   ]
  },
  {
   "cell_type": "markdown",
   "id": "965024a7",
   "metadata": {},
   "source": [
    "### Section 2.4: Clouds"
   ]
  },
  {
   "cell_type": "code",
   "execution_count": 23,
   "id": "e52150b1",
   "metadata": {},
   "outputs": [
    {
     "data": {
      "text/plain": [
       "<matplotlib.collections.PathCollection at 0x1b25390acb0>"
      ]
     },
     "execution_count": 23,
     "metadata": {},
     "output_type": "execute_result"
    },
    {
     "data": {
      "image/png": "[encoded data removed]",
      "text/plain": [
       "<Figure size 1080x720 with 1 Axes>"
      ]
     },
     "metadata": {
      "needs_background": "light"
     },
     "output_type": "display_data"
    }
   ],
   "source": [
    "plt.figure(figsize=(15, 10))\n",
    "plt.scatter(df[\"clouds\"][df[\"number\"] == 2], df[\"available_bikes\"][df[\"number\"] == 2])"
   ]
  },
  {
   "cell_type": "markdown",
   "id": "6b64712d",
   "metadata": {},
   "source": [
    "Observations: We cannot visually identify any relationship between clouds and bike availability for station 2, suggesting that clouds is not a determinant of bike availability."
   ]
  },
  {
   "cell_type": "markdown",
   "id": "4f65d86a",
   "metadata": {},
   "source": [
    "### Section 2.5: Visibility"
   ]
  },
  {
   "cell_type": "code",
   "execution_count": 24,
   "id": "7e46ab5c",
   "metadata": {},
   "outputs": [
    {
     "data": {
      "text/plain": [
       "<matplotlib.collections.PathCollection at 0x1b252dcaec0>"
      ]
     },
     "execution_count": 24,
     "metadata": {},
     "output_type": "execute_result"
    },
    {
     "data": {
      "image/png": "[encoded data removed]",
      "text/plain": [
       "<Figure size 1080x720 with 1 Axes>"
      ]
     },
     "metadata": {
      "needs_background": "light"
     },
     "output_type": "display_data"
    }
   ],
   "source": [
    "plt.figure(figsize=(15, 10))\n",
    "plt.scatter(df[\"visibility\"][df[\"number\"] == 2], df[\"available_bikes\"][df[\"number\"] == 2])"
   ]
  },
  {
   "cell_type": "markdown",
   "id": "6b64712d",
   "metadata": {},
   "source": [
    "Observations: We cannot visually identify any relationship between visibility and bike availability for station 2, suggesting that visibility is not a determinant of bike availability."
   ]
  },
  {
   "cell_type": "markdown",
   "id": "6c72fe2b",
   "metadata": {},
   "source": [
    "### Section 2.6: Weather description/main"
   ]
  },
  {
   "cell_type": "code",
   "execution_count": 25,
   "id": "a93c34ea",
   "metadata": {},
   "outputs": [
    {
     "data": {
      "text/plain": [
       "<AxesSubplot:title={'center':'available_bikes'}, xlabel='[main]'>"
      ]
     },
     "execution_count": 25,
     "metadata": {},
     "output_type": "execute_result"
    },
    {
     "data": {
      "text/plain": [
       "<Figure size 432x288 with 0 Axes>"
      ]
     },
     "metadata": {},
     "output_type": "display_data"
    },
    {
     "data": {
      "image/png": "[encoded data removed]",
      "text/plain": [
       "<Figure size 720x504 with 1 Axes>"
      ]
     },
     "metadata": {
      "needs_background": "light"
     },
     "output_type": "display_data"
    }
   ],
   "source": [
    "station_2_df = df[df[\"number\"] == 2]\n",
    "plt.figure()\n",
    "flierprops = dict(marker='o', markerfacecolor='green', markersize=6,\n",
    "                  linestyle='none')\n",
    "station_2_df.boxplot(column=['available_bikes'], by=['main'], flierprops=flierprops, figsize=(10,7))"
   ]
  },
  {
   "cell_type": "markdown",
   "id": "6b64712d",
   "metadata": {},
   "source": [
    "Observations: We note that there appears to be a relationship between main and available bikes. On clear days, there is a noticable availability of bikes, while in other days, there are fewer bikes available. This aligns with our expectations, as we would assume that the weather in general (whether it's cloudy, rainy etc.) would have a larger affect than other aspects of the weather"
   ]
  },
  {
   "cell_type": "markdown",
   "id": "290b79c7",
   "metadata": {},
   "source": [
    "### Section 2.7: Day of the week"
   ]
  },
  {
   "cell_type": "code",
   "execution_count": 26,
   "id": "1cbc6d48",
   "metadata": {},
   "outputs": [
    {
     "data": {
      "text/plain": [
       "<AxesSubplot:title={'center':'available_bikes'}, xlabel='[day_of_week]'>"
      ]
     },
     "execution_count": 26,
     "metadata": {},
     "output_type": "execute_result"
    },
    {
     "data": {
      "text/plain": [
       "<Figure size 432x288 with 0 Axes>"
      ]
     },
     "metadata": {},
     "output_type": "display_data"
    },
    {
     "data": {
      "image/png": "[encoded data removed]",
      "text/plain": [
       "<Figure size 720x504 with 1 Axes>"
      ]
     },
     "metadata": {
      "needs_background": "light"
     },
     "output_type": "display_data"
    }
   ],
   "source": [
    "plt.figure()\n",
    "flierprops = dict(marker='o', markerfacecolor='green', markersize=6,\n",
    "                  linestyle='none')\n",
    "station_2_df.boxplot(column=['available_bikes'], by=['day_of_week'], flierprops=flierprops, figsize=(10,7))"
   ]
  },
  {
   "cell_type": "markdown",
   "id": "c286762a",
   "metadata": {},
   "source": [
    "Observations: We note that there appears to be a relationship between the day of the week and available bikes. As we would expect, the weekends in particular appear to have a low average available bike count. The usage patterns also do appear to vary within the week also."
   ]
  },
  {
   "cell_type": "markdown",
   "id": "b649fabe",
   "metadata": {},
   "source": [
    "### Section 2.8: Hour of the day"
   ]
  },
  {
   "cell_type": "code",
   "execution_count": 27,
   "id": "a7db0604",
   "metadata": {},
   "outputs": [
    {
     "data": {
      "text/plain": [
       "<AxesSubplot:title={'center':'available_bikes'}, xlabel='[hour]'>"
      ]
     },
     "execution_count": 27,
     "metadata": {},
     "output_type": "execute_result"
    },
    {
     "data": {
      "text/plain": [
       "<Figure size 432x288 with 0 Axes>"
      ]
     },
     "metadata": {},
     "output_type": "display_data"
    },
    {
     "data": {
      "image/png": "[encoded data removed]",
      "text/plain": [
       "<Figure size 720x504 with 1 Axes>"
      ]
     },
     "metadata": {
      "needs_background": "light"
     },
     "output_type": "display_data"
    }
   ],
   "source": [
    "plt.figure()\n",
    "flierprops = dict(marker='o', markerfacecolor='green', markersize=6,\n",
    "                  linestyle='none')\n",
    "station_2_df.boxplot(column=['available_bikes'], by=['hour'], flierprops=flierprops, figsize=(10,7))"
   ]
  },
  {
   "cell_type": "markdown",
   "id": "5ec5b712",
   "metadata": {},
   "source": [
    "Observations: We see a strong relationship here between the hour of the day and the availability of bikes. We can see three defined changepoints, one point early in the morning, where presumably people are going to work, one point around lunchtime, where people are presumably going to lunch, and one point in the evening, where presumably people are going home. This suggests that hour of the day will be our strongest indicator of availability"
   ]
  },
  {
   "cell_type": "markdown",
   "id": "3f28d3cc",
   "metadata": {},
   "source": [
    "### Section 2.9: Get a list of station numbers"
   ]
  },
  {
   "cell_type": "code",
   "execution_count": 28,
   "id": "a06fc533",
   "metadata": {},
   "outputs": [],
   "source": [
    "station_numbers = list(df[\"number\"].unique())"
   ]
  },
  {
   "cell_type": "markdown",
   "id": "37ac5b14",
   "metadata": {},
   "source": [
    "### Section 2.10: Reencode categorical variables using binary encoding"
   ]
  },
  {
   "cell_type": "code",
   "execution_count": 29,
   "id": "c2945d7f",
   "metadata": {},
   "outputs": [],
   "source": [
    "dummy_fields = [\"main\", \"hour\", \"day_of_week\"]\n",
    "for each in dummy_fields:\n",
    "    dummies = pd.get_dummies(df[each], prefix=each, drop_first = False)\n",
    "    df = pd.concat([df, dummies], axis=1)\n",
    "df = df.drop(dummy_fields, axis=1)"
   ]
  },
  {
   "cell_type": "code",
   "execution_count": 30,
   "id": "2bc3fde9",
   "metadata": {},
   "outputs": [
    {
     "data": {
      "text/plain": [
       "Index(['number', 'available_bikes', 'available_stands', 'dt', 'temperature',\n",
       "       'pressure', 'humidity', 'clouds', 'visibility', 'main_Clear',\n",
       "       'main_Clouds', 'main_Drizzle', 'main_Fog', 'main_Haze', 'main_Mist',\n",
       "       'main_Rain', 'main_Snow', 'hour_0', 'hour_1', 'hour_2', 'hour_3',\n",
       "       'hour_4', 'hour_5', 'hour_6', 'hour_7', 'hour_8', 'hour_9', 'hour_10',\n",
       "       'hour_11', 'hour_12', 'hour_13', 'hour_14', 'hour_15', 'hour_16',\n",
       "       'hour_17', 'hour_18', 'hour_19', 'hour_20', 'hour_21', 'hour_22',\n",
       "       'hour_23', 'day_of_week_Friday', 'day_of_week_Monday',\n",
       "       'day_of_week_Saturday', 'day_of_week_Sunday', 'day_of_week_Thursday',\n",
       "       'day_of_week_Tuesday', 'day_of_week_Wednesday'],\n",
       "      dtype='object')"
      ]
     },
     "execution_count": 30,
     "metadata": {},
     "output_type": "execute_result"
    }
   ],
   "source": [
    "df.columns"
   ]
  },
  {
   "cell_type": "code",
   "execution_count": 31,
   "id": "3ce6a543",
   "metadata": {},
   "outputs": [],
   "source": [
    "# Model which includes all weather features\n",
    "all_weather_features = list(df.columns)[4:]"
   ]
  },
  {
   "cell_type": "code",
   "execution_count": 32,
   "id": "f3ef5aa3",
   "metadata": {},
   "outputs": [],
   "source": [
    "# Model which includes no weather features\n",
    "no_weather_features = list(df.columns[17:])"
   ]
  },
  {
   "cell_type": "code",
   "execution_count": 33,
   "id": "3e572a15",
   "metadata": {},
   "outputs": [],
   "source": [
    "# Model which just includes the weather description/main\n",
    "with_main = list(df.columns[9:])"
   ]
  },
  {
   "cell_type": "code",
   "execution_count": 34,
   "id": "bbf290f4",
   "metadata": {},
   "outputs": [],
   "source": [
    "with_main_and_temp = list(df.columns[4:5])\n",
    "with_main_and_temp.extend(list(df.columns[9:]))"
   ]
  },
  {
   "cell_type": "markdown",
   "id": "5b7ea1d2",
   "metadata": {},
   "source": [
    "## Section 3: Model creation/evaluation"
   ]
  },
  {
   "cell_type": "markdown",
   "id": "de8250be",
   "metadata": {},
   "source": [
    "### Section 3.1: Comparison of different ML models on a sample of the data"
   ]
  },
  {
   "cell_type": "markdown",
   "id": "80fe034d",
   "metadata": {},
   "source": [
    "We decided to compare various different linear regression models to see which one performed the best"
   ]
  },
  {
   "cell_type": "code",
   "execution_count": 35,
   "id": "0c684579",
   "metadata": {},
   "outputs": [],
   "source": [
    "def linear_results(x_train, x_test, y_train, y_test):\n",
    "    \"\"\"Function for fitting a linear model given some input data\n",
    "    \n",
    "    Uses adjusted R^2 as a performance metric, to allow for differences in model complexity\n",
    "    More complex models are more prone to overfitting, and are less interpretable\n",
    "    Adjusted R^2 penalises additional complexity\n",
    "    \"\"\"\n",
    "    model = LinearRegression()\n",
    "    model.fit(x_train, y_train)\n",
    "    y_pred = model.predict(x_test)\n",
    "    return 1 - (1-r2_score(y_test, y_pred)) * (len(y_test)-1)/(len(y_test)-x_test.shape[1]-1)\n",
    "\n"
   ]
  },
  {
   "cell_type": "code",
   "execution_count": 36,
   "id": "d0b0f05d",
   "metadata": {},
   "outputs": [
    {
     "name": "stdout",
     "output_type": "stream",
     "text": [
      "Average adjusted R^2 when all weather features are included: 0.29804255790913253\n",
      "Average adjusted R^2 when no weather features are included: 0.22570369860536704\n",
      "Average adjusted R^2 when only main is included: 0.24491636482997411\n",
      "Average adjusted R^2 when main and temperature are included: 0.2606808475717375\n"
     ]
    }
   ],
   "source": [
    "all_weather_features_results = []\n",
    "no_weather_features_results = []\n",
    "with_main_results = []\n",
    "with_main_and_temp_results = []\n",
    "\n",
    "for station in station_numbers:\n",
    "    # Prepare the training and test data for both linear and logistic regression\n",
    "    station_df = df[df[\"number\"] == station]\n",
    "    X = station_df[all_weather_features]\n",
    "    y = station_df[\"available_bikes\"]\n",
    "    X_train, X_test, y_train, y_test = train_test_split(X, y, test_size=0.3, random_state=42)\n",
    "\n",
    "    # Fit a linear regression model with all features\n",
    "    all_weather_features_results.append(linear_results(X_train, X_test, y_train, y_test))\n",
    "    no_weather_features_results.append(linear_results(X_train[no_weather_features], X_test[no_weather_features], y_train, y_test))\n",
    "    with_main_results.append(linear_results(X_train[with_main], X_test[with_main], y_train, y_test))\n",
    "    with_main_and_temp_results.append(linear_results(X_train[with_main_and_temp], X_test[with_main_and_temp], y_train, y_test))\n",
    "\n",
    "print(\"Average adjusted R^2 when all weather features are included:\", sum(all_weather_features_results) / len(all_weather_features_results))\n",
    "print(\"Average adjusted R^2 when no weather features are included:\", sum(no_weather_features_results) / len(all_weather_features_results))\n",
    "print(\"Average adjusted R^2 when only main is included:\", sum(with_main_results) / len(with_main_results))\n",
    "print(\"Average adjusted R^2 when main and temperature are included:\", sum(with_main_and_temp_results) / len(with_main_results))"
   ]
  },
  {
   "cell_type": "markdown",
   "id": "9173c0b0",
   "metadata": {},
   "source": [
    "#### Results"
   ]
  },
  {
   "cell_type": "markdown",
   "id": "523a57d0",
   "metadata": {},
   "source": [
    "We see that adding weather features to the linear regression model tends to increase the adjusted R^2 of the model on average. We can conclude from this that the inclusion of all available weather features in our final model is optimal, even though it increases the complexity of our final model"
   ]
  },
  {
   "cell_type": "markdown",
   "id": "5da4a3dc",
   "metadata": {},
   "source": [
    "### Section 3.2: Implementation of linear regression model"
   ]
  },
  {
   "cell_type": "code",
   "execution_count": 37,
   "id": "321bf383",
   "metadata": {},
   "outputs": [
    {
     "name": "stdout",
     "output_type": "stream",
     "text": [
      "Average adjusted R^2 of our final model: 0.2985950608915282\n"
     ]
    }
   ],
   "source": [
    "bike_availability = {}\n",
    "station_availability = {}\n",
    "final_model_results = []\n",
    "\n",
    "for station in station_numbers:\n",
    "    # Prepare the training and test data for both linear and logistic regression\n",
    "    station_df = df[df[\"number\"] == station]\n",
    "    X = station_df[all_weather_features]\n",
    "    y_bikes = station_df[\"available_bikes\"]\n",
    "    y_stations = station_df[\"available_stands\"]\n",
    "    X_train_bikes, X_test_bikes, y_train_bikes, y_test_bikes = train_test_split(X, y_bikes, test_size=0.3, random_state=43)\n",
    "    X_train_stations, X_test_stations, y_train_stations, y_test_stations = train_test_split(X, y_stations, test_size=0.3, random_state=44)\n",
    "\n",
    "    # Fit a linear regression model for bike availability\n",
    "    bike_availability[station] = LinearRegression()\n",
    "    bike_availability[station].fit(X_train_bikes, y_train_bikes)\n",
    "    y_pred_bikes = bike_availability[station].predict(X_test_bikes)\n",
    "    final_model_results.append(1 - (1-r2_score(y_test_bikes, y_pred_bikes)) * (len(y_test_bikes)-1)/(len(y_test_bikes)-X_test_bikes.shape[1]-1))\n",
    "\n",
    "    # Fit a linear regression model for bike availability\n",
    "    station_availability[station] = LinearRegression()\n",
    "    station_availability[station].fit(X_train_stations, y_train_stations)\n",
    "    y_pred_stations = station_availability[station].predict(X_test_stations)\n",
    "    final_model_results.append(1 - (1-r2_score(y_test_stations, y_pred_stations)) * (len(y_test_stations)-1)/(len(y_test_stations)-X_test_stations.shape[1]-1))\n",
    "    \n",
    "    file_name_bikes = \"station_\" + str(station) + \"_bike_model.pkl\"\n",
    "    with open(file_name_bikes, 'wb') as handle:\n",
    "        pickle.dump(bike_availability[station], handle, pickle.HIGHEST_PROTOCOL)\n",
    "\n",
    "    file_name_stations = \"station_\" + str(station) + \"_station_model.pkl\"\n",
    "    with open(file_name_stations, 'wb') as handle:\n",
    "        pickle.dump(station_availability[station], handle, pickle.HIGHEST_PROTOCOL)\n",
    "\n",
    "print(\"Average adjusted R^2 of our final model:\", sum(final_model_results) / len(final_model_results))"
   ]
  },
  {
   "cell_type": "markdown",
   "id": "ef0d4e5d",
   "metadata": {},
   "source": [
    "## Section 4: Testing our final model"
   ]
  },
  {
   "cell_type": "code",
   "execution_count": 38,
   "id": "8fcecaf5",
   "metadata": {},
   "outputs": [
    {
     "data": {
      "text/html": [
       "<div>\n",
       "<style scoped>\n",
       "    .dataframe tbody tr th:only-of-type {\n",
       "        vertical-align: middle;\n",
       "    }\n",
       "\n",
       "    .dataframe tbody tr th {\n",
       "        vertical-align: top;\n",
       "    }\n",
       "\n",
       "    .dataframe thead th {\n",
       "        text-align: right;\n",
       "    }\n",
       "</style>\n",
       "<table border=\"1\" class=\"dataframe\">\n",
       "  <thead>\n",
       "    <tr style=\"text-align: right;\">\n",
       "      <th></th>\n",
       "      <th>temperature</th>\n",
       "      <th>pressure</th>\n",
       "      <th>humidity</th>\n",
       "      <th>clouds</th>\n",
       "      <th>visibility</th>\n",
       "      <th>main_Clear</th>\n",
       "      <th>main_Clouds</th>\n",
       "      <th>main_Drizzle</th>\n",
       "      <th>main_Fog</th>\n",
       "      <th>main_Haze</th>\n",
       "      <th>...</th>\n",
       "      <th>hour_21</th>\n",
       "      <th>hour_22</th>\n",
       "      <th>hour_23</th>\n",
       "      <th>day_of_week_Friday</th>\n",
       "      <th>day_of_week_Monday</th>\n",
       "      <th>day_of_week_Saturday</th>\n",
       "      <th>day_of_week_Sunday</th>\n",
       "      <th>day_of_week_Thursday</th>\n",
       "      <th>day_of_week_Tuesday</th>\n",
       "      <th>day_of_week_Wednesday</th>\n",
       "    </tr>\n",
       "  </thead>\n",
       "  <tbody>\n",
       "    <tr>\n",
       "      <th>770516</th>\n",
       "      <td>6.85</td>\n",
       "      <td>1033</td>\n",
       "      <td>85</td>\n",
       "      <td>20</td>\n",
       "      <td>7000</td>\n",
       "      <td>0</td>\n",
       "      <td>1</td>\n",
       "      <td>0</td>\n",
       "      <td>0</td>\n",
       "      <td>0</td>\n",
       "      <td>...</td>\n",
       "      <td>0</td>\n",
       "      <td>0</td>\n",
       "      <td>1</td>\n",
       "      <td>1</td>\n",
       "      <td>0</td>\n",
       "      <td>0</td>\n",
       "      <td>0</td>\n",
       "      <td>0</td>\n",
       "      <td>0</td>\n",
       "      <td>0</td>\n",
       "    </tr>\n",
       "  </tbody>\n",
       "</table>\n",
       "<p>1 rows × 44 columns</p>\n",
       "</div>"
      ],
      "text/plain": [
       "        temperature  pressure  humidity  clouds  visibility  main_Clear  \\\n",
       "770516         6.85      1033        85      20        7000           0   \n",
       "\n",
       "        main_Clouds  main_Drizzle  main_Fog  main_Haze  ...  hour_21  hour_22  \\\n",
       "770516            1             0         0          0  ...        0        0   \n",
       "\n",
       "        hour_23  day_of_week_Friday  day_of_week_Monday  day_of_week_Saturday  \\\n",
       "770516        1                   1                   0                     0   \n",
       "\n",
       "        day_of_week_Sunday  day_of_week_Thursday  day_of_week_Tuesday  \\\n",
       "770516                   0                     0                    0   \n",
       "\n",
       "        day_of_week_Wednesday  \n",
       "770516                      0  \n",
       "\n",
       "[1 rows x 44 columns]"
      ]
     },
     "execution_count": 38,
     "metadata": {},
     "output_type": "execute_result"
    }
   ],
   "source": [
    "sample_x_data = X_test.head(1)\n",
    "sample_x_data"
   ]
  },
  {
   "cell_type": "code",
   "execution_count": 39,
   "id": "0cfd56c4",
   "metadata": {},
   "outputs": [],
   "source": [
    "with open('station_32_bike_model.pkl', 'rb') as handle:\n",
    "    station_32_model = pickle.load(handle)"
   ]
  },
  {
   "cell_type": "code",
   "execution_count": 40,
   "id": "46c7ead1",
   "metadata": {},
   "outputs": [
    {
     "name": "stdout",
     "output_type": "stream",
     "text": [
      "[7.80162427]\n"
     ]
    }
   ],
   "source": [
    "print(station_32_model.predict(sample_x_data))"
   ]
  },
  {
   "cell_type": "code",
   "execution_count": 41,
   "id": "0196eccc",
   "metadata": {},
   "outputs": [
    {
     "name": "stdout",
     "output_type": "stream",
     "text": [
      "770516    21\n",
      "Name: available_bikes, dtype: int64\n"
     ]
    }
   ],
   "source": [
    "print(y_test.head(1))"
   ]
  },
  {
   "cell_type": "code",
   "execution_count": 42,
   "id": "6348e1b5",
   "metadata": {},
   "outputs": [],
   "source": [
    "with open('station_32_station_model.pkl', 'rb') as handle:\n",
    "    station_32_model = pickle.load(handle)"
   ]
  },
  {
   "cell_type": "code",
   "execution_count": 43,
   "id": "5c6683e2",
   "metadata": {},
   "outputs": [
    {
     "name": "stdout",
     "output_type": "stream",
     "text": [
      "[22.16168633]\n"
     ]
    }
   ],
   "source": [
    "print(station_32_model.predict(sample_x_data))"
   ]
  },
  {
   "cell_type": "markdown",
   "id": "57e2fb76",
   "metadata": {},
   "source": [
    "Conclusion: Our model appears to generalise reasonably well to unseen data."
   ]
  }
 ],
 "metadata": {
  "kernelspec": {
   "display_name": "Python 3 (ipykernel)",
   "language": "python",
   "name": "python3"
  },
  "language_info": {
   "codemirror_mode": {
    "name": "ipython",
    "version": 3
   },
   "file_extension": ".py",
   "mimetype": "text/x-python",
   "name": "python",
   "nbconvert_exporter": "python",
   "pygments_lexer": "ipython3",
   "version": "3.10.0"
  }
 },
 "nbformat": 4,
 "nbformat_minor": 5
}
